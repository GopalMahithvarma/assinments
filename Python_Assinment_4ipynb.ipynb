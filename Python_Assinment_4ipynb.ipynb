{
  "nbformat": 4,
  "nbformat_minor": 0,
  "metadata": {
    "colab": {
      "name": "Python_Assinment_4ipynb",
      "provenance": [],
      "authorship_tag": "ABX9TyPy+RTAMQVBXxLI0Z1n2FT0",
      "include_colab_link": true
    },
    "kernelspec": {
      "name": "python3",
      "display_name": "Python 3"
    }
  },
  "cells": [
    {
      "cell_type": "markdown",
      "metadata": {
        "id": "view-in-github",
        "colab_type": "text"
      },
      "source": [
        "<a href=\"https://colab.research.google.com/github/GopalMahithvarma/assinments/blob/master/Python_Assinment_4ipynb.ipynb\" target=\"_parent\"><img src=\"https://colab.research.google.com/assets/colab-badge.svg\" alt=\"Open In Colab\"/></a>"
      ]
    },
    {
      "cell_type": "markdown",
      "metadata": {
        "id": "oLzucJqAu8Fi",
        "colab_type": "text"
      },
      "source": [
        "# **Write a program that prints the integers from 1 to 100. But for multiples of three print \"Fizz\" instead of the number, and for the multiples of five print \"Buzz\". For numbers which are multiples of both three and five print \"FizzBuzz\"**"
      ]
    },
    {
      "cell_type": "code",
      "metadata": {
        "id": "SNqv9NcYvHxW",
        "colab_type": "code",
        "colab": {
          "base_uri": "https://localhost:8080/",
          "height": 1000
        },
        "outputId": "026b2f12-94f1-468c-fe27-f5fb89ce9eb5"
      },
      "source": [
        "for fizzbuzz in range(100):\n",
        "    if fizzbuzz % 15 == 0:  \n",
        "        print(\"FizzBuzz\")                                          \n",
        "        continue \n",
        "    elif fizzbuzz%3==0:      \n",
        "        print(\"Fizz\")                                          \n",
        "        continue \n",
        "    elif fizzbuzz%5==0:          \n",
        "        print(\"Buzz\")                                      \n",
        "        continue\n",
        "    print(fizzbuzz) "
      ],
      "execution_count": 1,
      "outputs": [
        {
          "output_type": "stream",
          "text": [
            "FizzBuzz\n",
            "1\n",
            "2\n",
            "Fizz\n",
            "4\n",
            "Buzz\n",
            "Fizz\n",
            "7\n",
            "8\n",
            "Fizz\n",
            "Buzz\n",
            "11\n",
            "Fizz\n",
            "13\n",
            "14\n",
            "FizzBuzz\n",
            "16\n",
            "17\n",
            "Fizz\n",
            "19\n",
            "Buzz\n",
            "Fizz\n",
            "22\n",
            "23\n",
            "Fizz\n",
            "Buzz\n",
            "26\n",
            "Fizz\n",
            "28\n",
            "29\n",
            "FizzBuzz\n",
            "31\n",
            "32\n",
            "Fizz\n",
            "34\n",
            "Buzz\n",
            "Fizz\n",
            "37\n",
            "38\n",
            "Fizz\n",
            "Buzz\n",
            "41\n",
            "Fizz\n",
            "43\n",
            "44\n",
            "FizzBuzz\n",
            "46\n",
            "47\n",
            "Fizz\n",
            "49\n",
            "Buzz\n",
            "Fizz\n",
            "52\n",
            "53\n",
            "Fizz\n",
            "Buzz\n",
            "56\n",
            "Fizz\n",
            "58\n",
            "59\n",
            "FizzBuzz\n",
            "61\n",
            "62\n",
            "Fizz\n",
            "64\n",
            "Buzz\n",
            "Fizz\n",
            "67\n",
            "68\n",
            "Fizz\n",
            "Buzz\n",
            "71\n",
            "Fizz\n",
            "73\n",
            "74\n",
            "FizzBuzz\n",
            "76\n",
            "77\n",
            "Fizz\n",
            "79\n",
            "Buzz\n",
            "Fizz\n",
            "82\n",
            "83\n",
            "Fizz\n",
            "Buzz\n",
            "86\n",
            "Fizz\n",
            "88\n",
            "89\n",
            "FizzBuzz\n",
            "91\n",
            "92\n",
            "Fizz\n",
            "94\n",
            "Buzz\n",
            "Fizz\n",
            "97\n",
            "98\n",
            "Fizz\n"
          ],
          "name": "stdout"
        }
      ]
    },
    {
      "cell_type": "markdown",
      "metadata": {
        "id": "xv_43VXbwBpW",
        "colab_type": "text"
      },
      "source": [
        "# **Write a python program to find unique element from a list.**"
      ]
    },
    {
      "cell_type": "code",
      "metadata": {
        "id": "h41hzkSTwr6F",
        "colab_type": "code",
        "colab": {
          "base_uri": "https://localhost:8080/",
          "height": 134
        },
        "outputId": "6b059ff1-9386-45d5-8c2c-871ec936049f"
      },
      "source": [
        "list1=[1,2,3,2,1,4,6,4,7]\n",
        "res=[]\n",
        "for i in list1: \n",
        "    if i not in res: \n",
        "        res.append(i) \n",
        "print(\"Unique elements of the list\")    \n",
        "for i in res: \n",
        "    print(i) "
      ],
      "execution_count": 4,
      "outputs": [
        {
          "output_type": "stream",
          "text": [
            "Unique elements of the list\n",
            "1\n",
            "2\n",
            "3\n",
            "4\n",
            "6\n",
            "7\n"
          ],
          "name": "stdout"
        }
      ]
    },
    {
      "cell_type": "markdown",
      "metadata": {
        "id": "MZzBSa5ixS64",
        "colab_type": "text"
      },
      "source": [
        "# **Write a function that checks whether a number is in a given range (inclusive ofhigh and low)**"
      ]
    },
    {
      "cell_type": "code",
      "metadata": {
        "id": "oLAhFh4yxaqu",
        "colab_type": "code",
        "colab": {
          "base_uri": "https://localhost:8080/",
          "height": 34
        },
        "outputId": "33615dcc-4f29-45aa-c6a1-1219c1fe03c7"
      },
      "source": [
        "def check(n):\n",
        "    if n in range(3,9):\n",
        "        print( \" %s is in the range\"%str(n))\n",
        "    else :\n",
        "        print(\"The number is outside the given range.\")\n",
        "check(5)"
      ],
      "execution_count": 6,
      "outputs": [
        {
          "output_type": "stream",
          "text": [
            " 5 is in the range\n"
          ],
          "name": "stdout"
        }
      ]
    },
    {
      "cell_type": "markdown",
      "metadata": {
        "id": "18AW_kZry0SI",
        "colab_type": "text"
      },
      "source": [
        "# **Write a Python function that accepts a string and calculates the number of upper case letters and lower case letters**"
      ]
    },
    {
      "cell_type": "code",
      "metadata": {
        "id": "yzmsk9e5y8UF",
        "colab_type": "code",
        "colab": {
          "base_uri": "https://localhost:8080/",
          "height": 67
        },
        "outputId": "02c21255-a3d4-43c8-839e-2ab873a2b038"
      },
      "source": [
        "def string1(s):\n",
        "    d={\"UPPER_CASE\":0, \"LOWER_CASE\":0}\n",
        "    for c in s:\n",
        "        if c.isupper():\n",
        "           d[\"UPPER_CASE\"]+=1\n",
        "        elif c.islower():\n",
        "           d[\"LOWER_CASE\"]+=1\n",
        "        else:\n",
        "           pass\n",
        "    print (\"Original String:\", s)\n",
        "    print (\"No. of Upper case characters:\", d[\"UPPER_CASE\"])\n",
        "    print (\"No. of Lower case Characters:\", d[\"LOWER_CASE\"])\n",
        "\n",
        "string1('Hannah Baker')"
      ],
      "execution_count": 10,
      "outputs": [
        {
          "output_type": "stream",
          "text": [
            "Original String: Hannah Baker\n",
            "No. of Upper case characters: 2\n",
            "No. of Lower case Characters: 9\n"
          ],
          "name": "stdout"
        }
      ]
    }
  ]
}