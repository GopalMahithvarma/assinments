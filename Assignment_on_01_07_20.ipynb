{
  "nbformat": 4,
  "nbformat_minor": 0,
  "metadata": {
    "colab": {
      "name": "Assignment_on_01_07_20.ipynb",
      "provenance": [],
      "authorship_tag": "ABX9TyMXpeUhTjEhEbFkOUTdYhx5",
      "include_colab_link": true
    },
    "kernelspec": {
      "name": "python3",
      "display_name": "Python 3"
    }
  },
  "cells": [
    {
      "cell_type": "markdown",
      "metadata": {
        "id": "view-in-github",
        "colab_type": "text"
      },
      "source": [
        "<a href=\"https://colab.research.google.com/github/GopalMahithvarma/assinments/blob/master/Assignment_on_01_07_20.ipynb\" target=\"_parent\"><img src=\"https://colab.research.google.com/assets/colab-badge.svg\" alt=\"Open In Colab\"/></a>"
      ]
    },
    {
      "cell_type": "markdown",
      "metadata": {
        "id": "DP5R5r6233OV",
        "colab_type": "text"
      },
      "source": [
        "# **Write a python program to create a tuple with diffrent data types**"
      ]
    },
    {
      "cell_type": "code",
      "metadata": {
        "id": "B8iCPf2R39Vl",
        "colab_type": "code",
        "colab": {
          "base_uri": "https://localhost:8080/",
          "height": 34
        },
        "outputId": "6c741c8a-ccd7-4ce3-95c2-b884bd5455ab"
      },
      "source": [
        "a=(\"tuple\", False, 3.2, 1)\n",
        "print(a)\n"
      ],
      "execution_count": 1,
      "outputs": [
        {
          "output_type": "stream",
          "text": [
            "('tuple', False, 3.2, 1)\n"
          ],
          "name": "stdout"
        }
      ]
    },
    {
      "cell_type": "markdown",
      "metadata": {
        "id": "0H5qUTLY4G9d",
        "colab_type": "text"
      },
      "source": [
        "# **Write a python program to create a tuple**"
      ]
    },
    {
      "cell_type": "code",
      "metadata": {
        "id": "o3k9XaNm4Jbv",
        "colab_type": "code",
        "colab": {
          "base_uri": "https://localhost:8080/",
          "height": 34
        },
        "outputId": "0c5ecfdd-f2a1-4e42-bb1b-8694183e77e2"
      },
      "source": [
        "b=5, 10, 15, 20, 25\n",
        "print(b)"
      ],
      "execution_count": 2,
      "outputs": [
        {
          "output_type": "stream",
          "text": [
            "(5, 10, 15, 20, 25)\n"
          ],
          "name": "stdout"
        }
      ]
    },
    {
      "cell_type": "markdown",
      "metadata": {
        "id": "b5bVo8Sz4RsF",
        "colab_type": "text"
      },
      "source": [
        "# **Write a python program to convert a tuple to a string**"
      ]
    },
    {
      "cell_type": "code",
      "metadata": {
        "id": "DYpC0anK4UhN",
        "colab_type": "code",
        "colab": {
          "base_uri": "https://localhost:8080/",
          "height": 34
        },
        "outputId": "da0a78f3-f0a1-401f-cb8a-731805ffc4a1"
      },
      "source": [
        "t=('H', 'a', 'n', 'n', 'a', 'h')\n",
        "c=''.join(t)\n",
        "print(c)"
      ],
      "execution_count": 3,
      "outputs": [
        {
          "output_type": "stream",
          "text": [
            "Hannah\n"
          ],
          "name": "stdout"
        }
      ]
    },
    {
      "cell_type": "markdown",
      "metadata": {
        "id": "NaLdafOi4ef4",
        "colab_type": "text"
      },
      "source": [
        "# **Write a python program to slice a tuple**"
      ]
    },
    {
      "cell_type": "code",
      "metadata": {
        "id": "sLEAIEme4nLm",
        "colab_type": "code",
        "colab": {
          "base_uri": "https://localhost:8080/",
          "height": 34
        },
        "outputId": "74c52365-d31c-4624-9f08-3d2c71120712"
      },
      "source": [
        "t=tuple(\"HELLO WORLD\")\n",
        "print(t)"
      ],
      "execution_count": 5,
      "outputs": [
        {
          "output_type": "stream",
          "text": [
            "('H', 'E', 'L', 'L', 'O', ' ', 'W', 'O', 'R', 'L', 'D')\n"
          ],
          "name": "stdout"
        }
      ]
    },
    {
      "cell_type": "markdown",
      "metadata": {
        "id": "4Tz6qySH5Ips",
        "colab_type": "text"
      },
      "source": [
        "# **Write a python program to find the length of a tuple**"
      ]
    },
    {
      "cell_type": "code",
      "metadata": {
        "id": "dC-mxe9u8EMk",
        "colab_type": "code",
        "colab": {
          "base_uri": "https://localhost:8080/",
          "height": 50
        },
        "outputId": "f73475ff-dbcf-4da6-cf27-71816250c4cb"
      },
      "source": [
        "t=tuple(\"HELLO WOORLD\")\n",
        "print(t)\n",
        "print(\"The length is:\", len(t))"
      ],
      "execution_count": 6,
      "outputs": [
        {
          "output_type": "stream",
          "text": [
            "('H', 'E', 'L', 'L', 'O', ' ', 'W', 'O', 'O', 'R', 'L', 'D')\n",
            "The length is: 12\n"
          ],
          "name": "stdout"
        }
      ]
    },
    {
      "cell_type": "markdown",
      "metadata": {
        "id": "nk3qr2cR80mz",
        "colab_type": "text"
      },
      "source": [
        "# **Write a python program to convert a tuple to dictionary**"
      ]
    },
    {
      "cell_type": "code",
      "metadata": {
        "id": "BrTmHyNl9Dp1",
        "colab_type": "code",
        "colab": {
          "base_uri": "https://localhost:8080/",
          "height": 67
        },
        "outputId": "4986ae74-38b5-4d1e-a7e0-a376f3a1a5cb"
      },
      "source": [
        "tup1=('a', 'c', 'b')\n",
        "tup2=(1, 2, 3)\n",
        "print(\"The original key tuple is :\" ,str(tup1)) \n",
        "print(\"The original value tuple is :\" ,str(tup2)) \n",
        "res=dict(zip(tup1,tup2))\n",
        "print(\"Dictionary constructed from tuples:\" ,str(res)) \n"
      ],
      "execution_count": 10,
      "outputs": [
        {
          "output_type": "stream",
          "text": [
            "The original key tuple is : ('a', 'c', 'b')\n",
            "The original value tuple is : (1, 2, 3)\n",
            "Dictionary constructed from tuples: {'a': 1, 'c': 2, 'b': 3}\n"
          ],
          "name": "stdout"
        }
      ]
    },
    {
      "cell_type": "markdown",
      "metadata": {
        "id": "THxyZk9U-ux9",
        "colab_type": "text"
      },
      "source": [
        "# **Write a python program to reverse a tuple**"
      ]
    },
    {
      "cell_type": "code",
      "metadata": {
        "id": "zQj1_d7I-_Ep",
        "colab_type": "code",
        "colab": {
          "base_uri": "https://localhost:8080/",
          "height": 50
        },
        "outputId": "dc70c5d5-adbd-44ef-d452-cd5bd882ce9f"
      },
      "source": [
        "a=(\"python\")\n",
        "print(\"Before reverse:\", a)\n",
        "t=reversed(a)\n",
        "print(\"after reverse\", tuple(t))"
      ],
      "execution_count": 9,
      "outputs": [
        {
          "output_type": "stream",
          "text": [
            "Before reverse: python\n",
            "after reverse ('n', 'o', 'h', 't', 'y', 'p')\n"
          ],
          "name": "stdout"
        }
      ]
    },
    {
      "cell_type": "markdown",
      "metadata": {
        "id": "Ao44s0Em_uhJ",
        "colab_type": "text"
      },
      "source": [
        "# **Write a python program to convert a list of tuples into a dictionary**"
      ]
    },
    {
      "cell_type": "code",
      "metadata": {
        "id": "mGpO_2MPAqEI",
        "colab_type": "code",
        "colab": {
          "base_uri": "https://localhost:8080/",
          "height": 34
        },
        "outputId": "0abd8d5d-3d12-41cd-ebb1-7bfd43ad8732"
      },
      "source": [
        "list1=[(\"Nakul\",93), (\"Shivansh\",45), (\"Samved\",65), (\"Yash\",88), (\"Vidit\",70), (\"Pradeep\",52)] \n",
        "a=dict() \n",
        "for i,j in list1: \n",
        "    a.setdefault(i, []).append(j) \n",
        "print(a)"
      ],
      "execution_count": 12,
      "outputs": [
        {
          "output_type": "stream",
          "text": [
            "{'Nakul': [93], 'Shivansh': [45], 'Samved': [65], 'Yash': [88], 'Vidit': [70], 'Pradeep': [52]}\n"
          ],
          "name": "stdout"
        }
      ]
    },
    {
      "cell_type": "markdown",
      "metadata": {
        "id": "49Vk4478CNGo",
        "colab_type": "text"
      },
      "source": [
        "# **Write a python program to convert a list to a tuple**"
      ]
    },
    {
      "cell_type": "code",
      "metadata": {
        "id": "PYypLrigCeGs",
        "colab_type": "code",
        "colab": {
          "base_uri": "https://localhost:8080/",
          "height": 50
        },
        "outputId": "03219bb5-8298-483a-85cf-3942e0a15474"
      },
      "source": [
        "list1=[5, 10, 7, 4, 15, 3]\n",
        "print(\"original list:\", list1)\n",
        "t=tuple(list1)\n",
        "print(\"convetred to tuple:\", t)\n"
      ],
      "execution_count": 14,
      "outputs": [
        {
          "output_type": "stream",
          "text": [
            "original list: [5, 10, 7, 4, 15, 3]\n",
            "convetred to tuple: (5, 10, 7, 4, 15, 3)\n"
          ],
          "name": "stdout"
        }
      ]
    }
  ]
}