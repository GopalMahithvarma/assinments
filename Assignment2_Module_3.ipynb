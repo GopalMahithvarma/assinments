{
  "nbformat": 4,
  "nbformat_minor": 0,
  "metadata": {
    "colab": {
      "name": "Assignment2_Module_3.ipynb",
      "provenance": [],
      "authorship_tag": "ABX9TyOGGunB2WDlzUwneLlyfD4T",
      "include_colab_link": true
    },
    "kernelspec": {
      "name": "python3",
      "display_name": "Python 3"
    }
  },
  "cells": [
    {
      "cell_type": "markdown",
      "metadata": {
        "id": "view-in-github",
        "colab_type": "text"
      },
      "source": [
        "<a href=\"https://colab.research.google.com/github/GopalMahithvarma/assinments/blob/master/Assignment2_Module_3.ipynb\" target=\"_parent\"><img src=\"https://colab.research.google.com/assets/colab-badge.svg\" alt=\"Open In Colab\"/></a>"
      ]
    },
    {
      "cell_type": "markdown",
      "metadata": {
        "id": "VXXMNieOFyg5",
        "colab_type": "text"
      },
      "source": [
        "# **Python Program to find the Square root**"
      ]
    },
    {
      "cell_type": "code",
      "metadata": {
        "id": "xI8YYwprHIzd",
        "colab_type": "code",
        "colab": {
          "base_uri": "https://localhost:8080/",
          "height": 50
        },
        "outputId": "b363d895-b052-4249-908e-db824ea2fb23"
      },
      "source": [
        "import math\n",
        "n=int(input(\"Enter the number\"))\n",
        "print(math.sqrt(n))  \n"
      ],
      "execution_count": 1,
      "outputs": [
        {
          "output_type": "stream",
          "text": [
            "Enter the number400\n",
            "20.0\n"
          ],
          "name": "stdout"
        }
      ]
    },
    {
      "cell_type": "markdown",
      "metadata": {
        "id": "vbvqaNmCINAG",
        "colab_type": "text"
      },
      "source": [
        "# **Python program to check if a number is positive,negative or zero**"
      ]
    },
    {
      "cell_type": "code",
      "metadata": {
        "id": "0u1x9qm2Ivvp",
        "colab_type": "code",
        "colab": {
          "base_uri": "https://localhost:8080/",
          "height": 50
        },
        "outputId": "5f257879-a0a6-4603-cd81-81e80949bcac"
      },
      "source": [
        "n=int(input(\"Enter a number\"))\n",
        "if n>0:\n",
        "   print(n,\"Positive number\")\n",
        "elif n==0:\n",
        "   print(\"Zero\")\n",
        "else:\n",
        "   print(n,\"Negative number\")"
      ],
      "execution_count": 9,
      "outputs": [
        {
          "output_type": "stream",
          "text": [
            "Enter a number-6\n",
            "-6 Negative number\n"
          ],
          "name": "stdout"
        }
      ]
    },
    {
      "cell_type": "markdown",
      "metadata": {
        "id": "T9ADrywuI96u",
        "colab_type": "text"
      },
      "source": [
        "# **python program to check leap year**"
      ]
    },
    {
      "cell_type": "code",
      "metadata": {
        "id": "ngenW5H-JH7-",
        "colab_type": "code",
        "colab": {
          "base_uri": "https://localhost:8080/",
          "height": 50
        },
        "outputId": "09262717-cc42-4609-cfdd-f5ad766b9d3c"
      },
      "source": [
        "n=int(input(\"Enter the year\"))\n",
        "if (n%4)==0:\n",
        "   if (n%100)==0:\n",
        "       if (n%400)==0:\n",
        "           print(n,\"Is a leap year\")\n",
        "       else:\n",
        "           print(n,\"Is not a leap year\")\n",
        "   else:\n",
        "       print(n,\"Is a leap year\")\n",
        "else:\n",
        "   print(n,\"Is not a leap year\")"
      ],
      "execution_count": 8,
      "outputs": [
        {
          "output_type": "stream",
          "text": [
            "Enter the year2000\n",
            "2000 Is a leap year\n"
          ],
          "name": "stdout"
        }
      ]
    },
    {
      "cell_type": "markdown",
      "metadata": {
        "id": "GL2GD9dPKlhv",
        "colab_type": "text"
      },
      "source": [
        "#**Python program to print the Fibonacci sequence**"
      ]
    },
    {
      "cell_type": "code",
      "metadata": {
        "id": "3QxlqUqAWwkI",
        "colab_type": "code",
        "colab": {
          "base_uri": "https://localhost:8080/",
          "height": 202
        },
        "outputId": "c8ebd8ff-e063-4a45-c56a-f612634b4310"
      },
      "source": [
        "def Fibonacci(n):      \n",
        "    f1=0\n",
        "    f2=1\n",
        "    if (n<1): \n",
        "        return\n",
        "    for x in range(0,n): \n",
        "        print(f2) \n",
        "        next=f1+f2 \n",
        "        f1=f2 \n",
        "        f2=next\n",
        "Fibonacci(n=int(input(\"Enter the number of fibonacci numbers to be print\")))"
      ],
      "execution_count": 5,
      "outputs": [
        {
          "output_type": "stream",
          "text": [
            "Enter the number of fibonacci numbers to be print10\n",
            "1\n",
            "1\n",
            "2\n",
            "3\n",
            "5\n",
            "8\n",
            "13\n",
            "21\n",
            "34\n",
            "55\n"
          ],
          "name": "stdout"
        }
      ]
    },
    {
      "cell_type": "markdown",
      "metadata": {
        "id": "JEvHSrh5XGg1",
        "colab_type": "text"
      },
      "source": [
        "# **Python program to Check Armstrong number**"
      ]
    },
    {
      "cell_type": "code",
      "metadata": {
        "id": "a7kVlrQWXXTR",
        "colab_type": "code",
        "colab": {
          "base_uri": "https://localhost:8080/",
          "height": 50
        },
        "outputId": "d925f9b0-f133-458c-ac0d-a16221edae93"
      },
      "source": [
        "\n",
        "n=int(input(\"Enter a number: \"))\n",
        "sum=0\n",
        "temp=n\n",
        "while temp>0:\n",
        "   digit=temp%10\n",
        "   sum+=digit**3\n",
        "   temp//=10\n",
        "if n==sum:\n",
        "   print(n,\"is an Armstrong number\")\n",
        "else:\n",
        "   print(n,\"is not an Armstrong number\")"
      ],
      "execution_count": 7,
      "outputs": [
        {
          "output_type": "stream",
          "text": [
            "Enter a number: 407\n",
            "407 is an Armstrong number\n"
          ],
          "name": "stdout"
        }
      ]
    },
    {
      "cell_type": "markdown",
      "metadata": {
        "id": "aHucKZUBYhTz",
        "colab_type": "text"
      },
      "source": [
        "# **Python Program to find Armstrong number in an interval**"
      ]
    },
    {
      "cell_type": "code",
      "metadata": {
        "id": "7Xk9ZMM0YzIM",
        "colab_type": "code",
        "colab": {
          "base_uri": "https://localhost:8080/",
          "height": 101
        },
        "outputId": "d17e7ed1-8506-47da-9006-1ab3829cad61"
      },
      "source": [
        "lwr=100\n",
        "uppr=2000\n",
        "for n in range(lwr,uppr+1):\n",
        "   order=len(str(n))\n",
        "   sum=0\n",
        "   temp=n\n",
        "   while temp>0:\n",
        "       digit=temp%10\n",
        "       sum+=digit**order\n",
        "       temp//=10\n",
        "   if n==sum:\n",
        "       print(n)"
      ],
      "execution_count": 12,
      "outputs": [
        {
          "output_type": "stream",
          "text": [
            "153\n",
            "370\n",
            "371\n",
            "407\n",
            "1634\n"
          ],
          "name": "stdout"
        }
      ]
    }
  ]
}