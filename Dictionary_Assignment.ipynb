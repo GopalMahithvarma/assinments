{
  "nbformat": 4,
  "nbformat_minor": 0,
  "metadata": {
    "colab": {
      "name": "Dictionary_Assignment.ipynb",
      "provenance": [],
      "authorship_tag": "ABX9TyPiQjORgRgha6IO35mw1bxQ",
      "include_colab_link": true
    },
    "kernelspec": {
      "name": "python3",
      "display_name": "Python 3"
    }
  },
  "cells": [
    {
      "cell_type": "markdown",
      "metadata": {
        "id": "view-in-github",
        "colab_type": "text"
      },
      "source": [
        "<a href=\"https://colab.research.google.com/github/GopalMahithvarma/assinments/blob/master/Dictionary_Assignment.ipynb\" target=\"_parent\"><img src=\"https://colab.research.google.com/assets/colab-badge.svg\" alt=\"Open In Colab\"/></a>"
      ]
    },
    {
      "cell_type": "markdown",
      "metadata": {
        "id": "4Tnv41OF2S1j",
        "colab_type": "text"
      },
      "source": [
        "# **What is dictionary in python? Explain With an example**"
      ]
    },
    {
      "cell_type": "markdown",
      "metadata": {
        "id": "PjWkEqbG3IvR",
        "colab_type": "text"
      },
      "source": [
        "Python dictionary is an unordered collection of items. While other compound data types have only value as an element, a dictionary has key/value pairs. Dictionaries are optimized to retrieve values when the key is known.\n"
      ]
    },
    {
      "cell_type": "code",
      "metadata": {
        "id": "5XYE96BA2URl",
        "colab_type": "code",
        "colab": {}
      },
      "source": [
        "#ex:-\n",
        "n={'Puri':50,'Idly':40,'Dosa':50}"
      ],
      "execution_count": 19,
      "outputs": []
    },
    {
      "cell_type": "markdown",
      "metadata": {
        "id": "u2ysC6pf2U0R",
        "colab_type": "text"
      },
      "source": [
        "# **Write a python program to sum of all the items in a list**"
      ]
    },
    {
      "cell_type": "code",
      "metadata": {
        "colab_type": "code",
        "id": "bCZQ2Rh-2Mg2",
        "colab": {
          "base_uri": "https://localhost:8080/",
          "height": 34
        },
        "outputId": "e7fc83a3-5ca1-48e0-b881-1195c60cb3a9"
      },
      "source": [
        "list1=[1,2,3,4,5]\n",
        "n=0\n",
        "for i in list1:\n",
        "        n+=i\n",
        "print(\"The sum is:\", n)"
      ],
      "execution_count": null,
      "outputs": [
        {
          "output_type": "stream",
          "text": [
            "The sum is: 15\n"
          ],
          "name": "stdout"
        }
      ]
    },
    {
      "cell_type": "markdown",
      "metadata": {
        "id": "R9Z5eQydP005",
        "colab_type": "text"
      },
      "source": [
        "# **Write a Python program to create a list of empty dictionaries**"
      ]
    },
    {
      "cell_type": "code",
      "metadata": {
        "id": "tYDa6D9WprJu",
        "colab_type": "code",
        "colab": {
          "base_uri": "https://localhost:8080/",
          "height": 34
        },
        "outputId": "4b9cb7a9-8906-47b3-c1b3-72f51e6d94e6"
      },
      "source": [
        "a=5\n",
        "n=[[] for _ in range(a)]\n",
        "print(n)"
      ],
      "execution_count": 6,
      "outputs": [
        {
          "output_type": "stream",
          "text": [
            "[[], [], [], [], []]\n"
          ],
          "name": "stdout"
        }
      ]
    },
    {
      "cell_type": "markdown",
      "metadata": {
        "id": "iXkPrslip-KK",
        "colab_type": "text"
      },
      "source": [
        "# **Write a Python program to access dictionary keys element by index**"
      ]
    },
    {
      "cell_type": "code",
      "metadata": {
        "id": "TGkeT0t6qV0_",
        "colab_type": "code",
        "colab": {
          "base_uri": "https://localhost:8080/",
          "height": 34
        },
        "outputId": "8bac7b6e-fa3b-4edf-f37c-026c244a09bf"
      },
      "source": [
        "n={'Lucifer':5,'sherlock':4,'Dark':3}\n",
        "print(list(n)[0])\n"
      ],
      "execution_count": 13,
      "outputs": [
        {
          "output_type": "stream",
          "text": [
            "Lucifer\n"
          ],
          "name": "stdout"
        }
      ]
    },
    {
      "cell_type": "markdown",
      "metadata": {
        "id": "D2DEHFEJrBJs",
        "colab_type": "text"
      },
      "source": [
        "# **Write a Python program to iterate over dictionaries using for loops**"
      ]
    },
    {
      "cell_type": "code",
      "metadata": {
        "id": "EU3G1Sthrp6O",
        "colab_type": "code",
        "colab": {
          "base_uri": "https://localhost:8080/",
          "height": 67
        },
        "outputId": "71d93677-5f19-49bc-ddcf-0374a13739b6"
      },
      "source": [
        "n={'Lucifer':5,'sherlock':4,'Dark':3}\n",
        "for i, j in n.items():\n",
        "     print(i, 'has', n[i],'seasons') \n"
      ],
      "execution_count": 16,
      "outputs": [
        {
          "output_type": "stream",
          "text": [
            "Lucifer has 5 seasons\n",
            "sherlock has 4 seasons\n",
            "Dark has 3 seasons\n"
          ],
          "name": "stdout"
        }
      ]
    },
    {
      "cell_type": "markdown",
      "metadata": {
        "id": "swTKR-FetTfQ",
        "colab_type": "text"
      },
      "source": [
        "# **Write a Python program to sum all the items in a dictionary**"
      ]
    },
    {
      "cell_type": "code",
      "metadata": {
        "id": "mrHYeA2vtbB5",
        "colab_type": "code",
        "colab": {
          "base_uri": "https://localhost:8080/",
          "height": 34
        },
        "outputId": "4e305e06-0980-4590-f0cd-f70558d6f2e2"
      },
      "source": [
        "n={'Puri':50,'Idly':40,'Dosa':50}\n",
        "print(\"The sum of the all items:\",sum(n.values()))"
      ],
      "execution_count": 17,
      "outputs": [
        {
          "output_type": "stream",
          "text": [
            "The sum of the all items: 140\n"
          ],
          "name": "stdout"
        }
      ]
    },
    {
      "cell_type": "markdown",
      "metadata": {
        "id": "2n-cT1iV0Ynl",
        "colab_type": "text"
      },
      "source": [
        "# **Write a Python script to concatenate following dictionaries to create a new one. Sample Dictionary :**\n",
        "    a. dic1={1:10, 2:20}\n",
        "    b. dic2={3:30, 4:40}\n",
        "    c. dic3={5:50,6:60}"
      ]
    },
    {
      "cell_type": "code",
      "metadata": {
        "id": "7dNTCO_f0t6v",
        "colab_type": "code",
        "colab": {
          "base_uri": "https://localhost:8080/",
          "height": 34
        },
        "outputId": "041d9aff-9c09-4d07-e2f9-71e5356df338"
      },
      "source": [
        "dic1={1:10, 2:20}\n",
        "dic2={3:30, 4:40}\n",
        "dic3={5:50,6:60}\n",
        "dic4={}\n",
        "for i in (dic1, dic2, dic3): dic4.update(i)\n",
        "print(dic4)"
      ],
      "execution_count": 18,
      "outputs": [
        {
          "output_type": "stream",
          "text": [
            "{1: 10, 2: 20, 3: 30, 4: 40, 5: 50, 6: 60}\n"
          ],
          "name": "stdout"
        }
      ]
    }
  ]
}