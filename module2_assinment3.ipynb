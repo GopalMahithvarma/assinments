{
  "nbformat": 4,
  "nbformat_minor": 0,
  "metadata": {
    "colab": {
      "name": "module2_assinment3.ipynb",
      "provenance": [],
      "collapsed_sections": [],
      "authorship_tag": "ABX9TyNo+BQdFzrXhcdBMSxIbxwu",
      "include_colab_link": true
    },
    "kernelspec": {
      "name": "python3",
      "display_name": "Python 3"
    }
  },
  "cells": [
    {
      "cell_type": "markdown",
      "metadata": {
        "id": "view-in-github",
        "colab_type": "text"
      },
      "source": [
        "<a href=\"https://colab.research.google.com/github/GopalMahithvarma/assinments/blob/master/module2_assinment3.ipynb\" target=\"_parent\"><img src=\"https://colab.research.google.com/assets/colab-badge.svg\" alt=\"Open In Colab\"/></a>"
      ]
    },
    {
      "cell_type": "markdown",
      "metadata": {
        "id": "r0H6dXuKb9wH",
        "colab_type": "text"
      },
      "source": [
        "# **Write a python program to find a area of circle using math function**"
      ]
    },
    {
      "cell_type": "code",
      "metadata": {
        "id": "-D_XG35hcP5m",
        "colab_type": "code",
        "colab": {
          "base_uri": "https://localhost:8080/",
          "height": 50
        },
        "outputId": "c994218c-63f1-4380-fe14-bf514812ae72"
      },
      "source": [
        "import math\n",
        "r=int(input(\"Enter the radius of the circle\"))\n",
        "a=math.pi*r*r\n",
        "print(\"The area of the circle is\", a)"
      ],
      "execution_count": null,
      "outputs": [
        {
          "output_type": "stream",
          "text": [
            "Enter the radius of the circle3\n",
            "The area of the circle is 28.274333882308138\n"
          ],
          "name": "stdout"
        }
      ]
    },
    {
      "cell_type": "markdown",
      "metadata": {
        "id": "gBv0AmvWc66S",
        "colab_type": "text"
      },
      "source": [
        "# **write a python function to find the area of regular polygon using math function**"
      ]
    },
    {
      "cell_type": "code",
      "metadata": {
        "id": "HIQ89RvKdYm3",
        "colab_type": "code",
        "colab": {
          "base_uri": "https://localhost:8080/",
          "height": 67
        },
        "outputId": "1771be79-6809-4ac7-fec7-65b52c63c5aa"
      },
      "source": [
        "import math\n",
        "n=int(input('enter the number of sides of a polygon'))\n",
        "l=int(input('enter the length of the side of the polygon'))\n",
        "a=(n*l**2)/(4*math.tan(math.pi/n))\n",
        "print('The area of the polygon is', a)"
      ],
      "execution_count": null,
      "outputs": [
        {
          "output_type": "stream",
          "text": [
            "enter the number of sides of a polygon6\n",
            "enter the length of the side of the polygon78\n",
            "The area of the polygon is 15806.695669873576\n"
          ],
          "name": "stdout"
        }
      ]
    },
    {
      "cell_type": "markdown",
      "metadata": {
        "id": "ZO-sU9wQf4Be",
        "colab_type": "text"
      },
      "source": [
        "# **Write a program to find area of a segmentof a circle formula using math function**"
      ]
    },
    {
      "cell_type": "code",
      "metadata": {
        "id": "voqE1TosgRvx",
        "colab_type": "code",
        "colab": {
          "base_uri": "https://localhost:8080/",
          "height": 67
        },
        "outputId": "e8662855-0927-40b3-f610-07a36e53b4df"
      },
      "source": [
        "import math\n",
        "r=int(input('Enter the radius of Circle'))\n",
        "a=int(input('Enter the angle of segment'))\n",
        "if a>=360:\n",
        "    print('Angle is not possible')\n",
        "else:\n",
        "  s=(math.pi*r**2)*(a/360)\n",
        "  print('Area of segment is', s)"
      ],
      "execution_count": null,
      "outputs": [
        {
          "output_type": "stream",
          "text": [
            "Enter the radius of Circle4\n",
            "Enter the angle of segment45\n",
            "Area of segment is 6.283185307179586\n"
          ],
          "name": "stdout"
        }
      ]
    },
    {
      "cell_type": "markdown",
      "metadata": {
        "id": "nzPRcWesgP3W",
        "colab_type": "text"
      },
      "source": [
        "# **Write a python program to shuffle list[1={100,1,2,3,30,40,\"Hai\",\"Hello\"}**"
      ]
    },
    {
      "cell_type": "code",
      "metadata": {
        "id": "EwQVshiYlBxe",
        "colab_type": "code",
        "colab": {
          "base_uri": "https://localhost:8080/",
          "height": 34
        },
        "outputId": "b428edda-6259-4b0a-8506-dba2a66f7df9"
      },
      "source": [
        "import random\n",
        "a=[100,1,2,3,30,40,\"Hai\",\"Hello\"]\n",
        "random.shuffle(a)\n",
        "print(a)"
      ],
      "execution_count": null,
      "outputs": [
        {
          "output_type": "stream",
          "text": [
            "[100, 40, 'Hai', 1, 'Hello', 2, 30, 3]\n"
          ],
          "name": "stdout"
        }
      ]
    },
    {
      "cell_type": "markdown",
      "metadata": {
        "id": "qi-dUB_O7cH6",
        "colab_type": "text"
      },
      "source": [
        "# **Write a program to generate random numbers between 1,10000**"
      ]
    },
    {
      "cell_type": "code",
      "metadata": {
        "id": "OoDp3UHkQtw7",
        "colab_type": "code",
        "colab": {
          "base_uri": "https://localhost:8080/",
          "height": 34
        },
        "outputId": "88a78c60-0bed-4ff8-ad10-837118dc3f56"
      },
      "source": [
        "import random\n",
        "def Rand(start, end, n): \n",
        "    res=[]\n",
        "    for j in range(n): \n",
        "        res.append(random.randint(start, end)) \n",
        "    return res \n",
        "n=10\n",
        "start=1\n",
        "end=10000\n",
        "print(Rand(start, end, n))\n",
        "  "
      ],
      "execution_count": 61,
      "outputs": [
        {
          "output_type": "stream",
          "text": [
            "[8017, 1787, 4939, 9032, 4770, 2045, 8970, 5452, 8853, 3330]\n"
          ],
          "name": "stdout"
        }
      ]
    },
    {
      "cell_type": "markdown",
      "metadata": {
        "id": "bqo1CfvxlIO8",
        "colab_type": "text"
      },
      "source": [
        "# **Write a python program by using math module to find**"
      ]
    },
    {
      "cell_type": "markdown",
      "metadata": {
        "id": "DOeff1AImQet",
        "colab_type": "text"
      },
      "source": [
        "\n",
        "\n",
        "1.   sin60\n",
        "2.   cos(pi)\n",
        "3.   tan90\n",
        "4.   angle of sin(0.8660254037844386)\n",
        "5.   5^8\n",
        "6.   Square root of 400\n",
        "7. The value of 5^e\n",
        "8. The value of Log(1024),base 2\n",
        "9.The value of log(1024),base 10\n",
        "10. The Floor and ceiling value of 23.56 \n",
        "\n"
      ]
    },
    {
      "cell_type": "code",
      "metadata": {
        "id": "WUXtbffjnpFI",
        "colab_type": "code",
        "colab": {
          "base_uri": "https://localhost:8080/",
          "height": 202
        },
        "outputId": "8035cd87-8e7f-484c-bb8c-1b16944e5cd4"
      },
      "source": [
        "import math \n",
        "a=math.pi/6 \n",
        "print('The value of sine of 60 is', math.sin(a)) \n",
        "b=math.pi\n",
        "print('The value of cos(pi) is', math.cos(b))\n",
        "c=math.pi/4\n",
        "print('The value of tan of 90 is', math.tan(c))\n",
        "d=math.asin(0.8660254037844386)\n",
        "print('The angle of sin(0.8660254037844386) is', math.degrees(d))\n",
        "e=math.pow(5,8)\n",
        "print('The value of 5^8 is', e)\n",
        "f=math.sqrt(400)\n",
        "print('The value of square root of 400 is', f)\n",
        "g=math.pow(5,math.e)\n",
        "print('The value of 5^e is', g)\n",
        "h=math.log(1024,2)\n",
        "print('The value of log(1024),base 2 is', h)\n",
        "i=math.log(1024,10)\n",
        "print('The value of log(1024),base 10 is', i)\n",
        "j=math.ceil(23.56)\n",
        "print('The Floor value of 23.56 is', j)\n",
        "k=math.floor(23.56)\n",
        "print('The Ceiling value of 23.56 is', k)"
      ],
      "execution_count": 75,
      "outputs": [
        {
          "output_type": "stream",
          "text": [
            "The value of sine of 60 is 0.49999999999999994\n",
            "The value of cos(pi) is -1.0\n",
            "The value of tan of 90 is 0.9999999999999999\n",
            "The angle of sin(0.8660254037844386) is 59.99999999999999\n",
            "The value of 5^8 is 390625.0\n",
            "The value of square root of 400 is 20.0\n",
            "The value of 5^e is 79.43235916621322\n",
            "The value of log(1024),base 2 is 10.0\n",
            "The value of log(1024),base 10 is 3.0102999566398116\n",
            "The Floor value of 23.56 is 24\n",
            "The Ceiling value of 23.56 is 23\n"
          ],
          "name": "stdout"
        }
      ]
    }
  ]
}