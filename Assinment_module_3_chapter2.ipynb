{
  "nbformat": 4,
  "nbformat_minor": 0,
  "metadata": {
    "colab": {
      "name": "Assinment_module_3_chapter2.ipynb",
      "provenance": [],
      "authorship_tag": "ABX9TyMbv8i5DjKLOW4pR4XqakD5",
      "include_colab_link": true
    },
    "kernelspec": {
      "name": "python3",
      "display_name": "Python 3"
    }
  },
  "cells": [
    {
      "cell_type": "markdown",
      "metadata": {
        "id": "view-in-github",
        "colab_type": "text"
      },
      "source": [
        "<a href=\"https://colab.research.google.com/github/GopalMahithvarma/assinments/blob/master/Assinment_module_3_chapter2.ipynb\" target=\"_parent\"><img src=\"https://colab.research.google.com/assets/colab-badge.svg\" alt=\"Open In Colab\"/></a>"
      ]
    },
    {
      "cell_type": "markdown",
      "metadata": {
        "id": "d_jjziZbgaSU",
        "colab_type": "text"
      },
      "source": [
        "# **Write a python program to calculate the length of a string**"
      ]
    },
    {
      "cell_type": "code",
      "metadata": {
        "id": "tk_7cZzlgpTN",
        "colab_type": "code",
        "colab": {
          "base_uri": "https://localhost:8080/",
          "height": 50
        },
        "outputId": "06740ff1-d80f-4633-b118-6ced0f228e52"
      },
      "source": [
        "a=input(\"Enter a string\")\n",
        "n=0\n",
        "for s in a:\n",
        "      n=n+1\n",
        "print(\"Length of the input string is\", n)"
      ],
      "execution_count": 2,
      "outputs": [
        {
          "output_type": "stream",
          "text": [
            "Enter a stringPython\n",
            "Length of the input string is 6\n"
          ],
          "name": "stdout"
        }
      ]
    },
    {
      "cell_type": "markdown",
      "metadata": {
        "id": "91MUFQUJhUcu",
        "colab_type": "text"
      },
      "source": [
        "# **Write a python program to count the number of characters(character frequency)in a string**"
      ]
    },
    {
      "cell_type": "code",
      "metadata": {
        "id": "2WVCXYYViNWK",
        "colab_type": "code",
        "colab": {
          "base_uri": "https://localhost:8080/",
          "height": 50
        },
        "outputId": "38f82231-5461-4a0a-d7b5-c8775e9af842"
      },
      "source": [
        "a=input(\"Enter a string\")\n",
        "res={i : a.count(i) for i in set(a)}\n",
        "print (\"The count of all characters is \" +str(res)) \n"
      ],
      "execution_count": 5,
      "outputs": [
        {
          "output_type": "stream",
          "text": [
            "Enter a stringhannah baker\n",
            "The count of all characters is {'n': 2, 'e': 1, 'k': 1, 'h': 2, 'b': 1, ' ': 1, 'a': 3, 'r': 1}\n"
          ],
          "name": "stdout"
        }
      ]
    },
    {
      "cell_type": "markdown",
      "metadata": {
        "id": "idGdwzuekRYb",
        "colab_type": "text"
      },
      "source": [
        "# **Write a python program to get a single string from two given strings,separated by a space and swap the first two characters of each string**"
      ]
    },
    {
      "cell_type": "code",
      "metadata": {
        "id": "alAKeh27lb4d",
        "colab_type": "code",
        "colab": {
          "base_uri": "https://localhost:8080/",
          "height": 67
        },
        "outputId": "75105cef-c8f1-42c3-c0d2-34eff78b1094"
      },
      "source": [
        "a=input(\"Enter the first string\")\n",
        "b=input(\"Enter the second string\")\n",
        "x=a[0:2]\n",
        "a=a.replace(a[0:2],b[0:2])\n",
        "b=b.replace(b[0:2],x)\n",
        "print(a,b)"
      ],
      "execution_count": 6,
      "outputs": [
        {
          "output_type": "stream",
          "text": [
            "Enter the first stringhannah\n",
            "Enter the second stringbaker\n",
            "bannah haker\n"
          ],
          "name": "stdout"
        }
      ]
    },
    {
      "cell_type": "markdown",
      "metadata": {
        "id": "ooymmS7FmhP5",
        "colab_type": "text"
      },
      "source": [
        "# **Write python script that takes input from the user and display that input back in upper and lower cases**"
      ]
    },
    {
      "cell_type": "code",
      "metadata": {
        "id": "irV6ytXMnAv5",
        "colab_type": "code",
        "colab": {
          "base_uri": "https://localhost:8080/",
          "height": 67
        },
        "outputId": "fcb56acb-6714-46c6-daa2-8ebfb29b40c3"
      },
      "source": [
        "a=input(\"Enter a string\")\n",
        "print(\"String in upper case is \", a.upper())\n",
        "print(\"String in lower case is \", a.lower())\n"
      ],
      "execution_count": 7,
      "outputs": [
        {
          "output_type": "stream",
          "text": [
            "Enter a stringHannah Baker\n",
            "String in upper case is  HANNAH BAKER\n",
            "String in lower case is  hannah baker\n"
          ],
          "name": "stdout"
        }
      ]
    },
    {
      "cell_type": "markdown",
      "metadata": {
        "id": "9BBFT6qOnrCk",
        "colab_type": "text"
      },
      "source": [
        "# **Write a python program to remove a newline in python**"
      ]
    },
    {
      "cell_type": "code",
      "metadata": {
        "id": "OceA_WpVn2aZ",
        "colab_type": "code",
        "colab": {
          "base_uri": "https://localhost:8080/",
          "height": 84
        },
        "outputId": "e4aa87a1-ff3e-4b57-dc34-f50a8e5efa50"
      },
      "source": [
        "str1='hannah baker\\n'\n",
        "str2='Hannah baker'\n",
        "print(str1)\n",
        "print(str1.rstrip())\n",
        "print(str2)\n"
      ],
      "execution_count": 10,
      "outputs": [
        {
          "output_type": "stream",
          "text": [
            "hannah baker\n",
            "\n",
            "hannah baker\n",
            "Hannah baker\n"
          ],
          "name": "stdout"
        }
      ]
    },
    {
      "cell_type": "markdown",
      "metadata": {
        "id": "Bvkz39Hgot4q",
        "colab_type": "text"
      },
      "source": [
        "# **Write a python program to count occurrences of a substring in a string**"
      ]
    },
    {
      "cell_type": "code",
      "metadata": {
        "id": "anyNe_t_o-i7",
        "colab_type": "code",
        "colab": {
          "base_uri": "https://localhost:8080/",
          "height": 34
        },
        "outputId": "3525572f-5db7-4295-ab75-1cabb84880a8"
      },
      "source": [
        "str1 = 'During the 18th century, however, they did not write in the living language of the Servian people.'\n",
        "print(str1.count(\"the\"))\n"
      ],
      "execution_count": 12,
      "outputs": [
        {
          "output_type": "stream",
          "text": [
            "4\n"
          ],
          "name": "stdout"
        }
      ]
    },
    {
      "cell_type": "markdown",
      "metadata": {
        "id": "c-5juDIUp8Bw",
        "colab_type": "text"
      },
      "source": [
        "# **Write a python program to convert a string in a list**"
      ]
    },
    {
      "cell_type": "code",
      "metadata": {
        "id": "62LlbZnAqJMx",
        "colab_type": "code",
        "colab": {
          "base_uri": "https://localhost:8080/",
          "height": 50
        },
        "outputId": "c5db65c9-16a6-4069-c781-ba71ed232214"
      },
      "source": [
        "def Convert(string): \n",
        "    li=list(string.split(\" \")) \n",
        "    return li     \n",
        "str1=input(\"Enter a list of words\")\n",
        "print(Convert(str1))"
      ],
      "execution_count": 14,
      "outputs": [
        {
          "output_type": "stream",
          "text": [
            "Enter a list of wordsWrite a python program\n",
            "['Write', 'a', 'python', 'program']\n"
          ],
          "name": "stdout"
        }
      ]
    },
    {
      "cell_type": "markdown",
      "metadata": {
        "id": "RR4oI8RVrEYi",
        "colab_type": "text"
      },
      "source": [
        "# **Write a python program to perform deletion of a character**"
      ]
    },
    {
      "cell_type": "code",
      "metadata": {
        "id": "j9SsFq8CsD9J",
        "colab_type": "code",
        "colab": {
          "base_uri": "https://localhost:8080/",
          "height": 67
        },
        "outputId": "232441db-6514-457a-cfab-b9c38933b2cb"
      },
      "source": [
        "def char(str, n):\n",
        "      firstpart=str[:n] \n",
        "      lastpart=str[n+1:]\n",
        "      return firstpart+lastpart\n",
        "print(char('Python', 0))\n",
        "print(char('Python', 3))\n",
        "print(char('Python', 5))\n"
      ],
      "execution_count": 15,
      "outputs": [
        {
          "output_type": "stream",
          "text": [
            "ython\n",
            "Pyton\n",
            "Pytho\n"
          ],
          "name": "stdout"
        }
      ]
    },
    {
      "cell_type": "markdown",
      "metadata": {
        "id": "11LYw3MCscyL",
        "colab_type": "text"
      },
      "source": [
        "# **Write a python program to print every  character of a string entered by the user in a new line using loop**"
      ]
    },
    {
      "cell_type": "code",
      "metadata": {
        "id": "Ovf2fQXxvTXV",
        "colab_type": "code",
        "colab": {
          "base_uri": "https://localhost:8080/",
          "height": 235
        },
        "outputId": "578601a4-c7a9-46b9-df1f-dcdcda9a89d9"
      },
      "source": [
        "a=input('Enter a string')\n",
        "for i in a:\n",
        "  print(i)"
      ],
      "execution_count": 23,
      "outputs": [
        {
          "output_type": "stream",
          "text": [
            "Enter a stringHannah Baker\n",
            "H\n",
            "a\n",
            "n\n",
            "n\n",
            "a\n",
            "h\n",
            " \n",
            "B\n",
            "a\n",
            "k\n",
            "e\n",
            "r\n"
          ],
          "name": "stdout"
        }
      ]
    },
    {
      "cell_type": "markdown",
      "metadata": {
        "id": "ySaOL4nYvm-n",
        "colab_type": "text"
      },
      "source": [
        "## **Write a program to find the length of the string \"refrigerator\" without using len function**"
      ]
    },
    {
      "cell_type": "code",
      "metadata": {
        "id": "hCcb6OKav9Pg",
        "colab_type": "code",
        "colab": {
          "base_uri": "https://localhost:8080/",
          "height": 34
        },
        "outputId": "5f0954dc-a8b2-4aa0-92a7-cad2fc544a2f"
      },
      "source": [
        "str1='refrigerator'\n",
        "count=0\n",
        "for i in str1:\n",
        "      count=count+1\n",
        "print(\"Length of the string is\", count)"
      ],
      "execution_count": 26,
      "outputs": [
        {
          "output_type": "stream",
          "text": [
            "Length of the string is 12\n"
          ],
          "name": "stdout"
        }
      ]
    }
  ]
}