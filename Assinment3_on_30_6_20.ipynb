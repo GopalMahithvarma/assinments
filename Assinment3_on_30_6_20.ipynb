{
 "cells": [
  {
   "cell_type": "markdown",
   "metadata": {},
   "source": [
    "#Write a Python program to read an entire text file."
   ]
  },
  {
   "cell_type": "code",
   "execution_count": 7,
   "metadata": {},
   "outputs": [
    {
     "name": "stdout",
     "output_type": "stream",
     "text": [
      "Hannah Baker\n"
     ]
    }
   ],
   "source": [
    "f=open(\"demo1.txt\",\"w\")\n",
    "f.write(\"Hannah Baker\")\n",
    "f.close()\n",
    "f=open(\"demo1.txt\",\"r\")\n",
    "print(f.read())"
   ]
  },
  {
   "cell_type": "markdown",
   "metadata": {},
   "source": [
    "#Write a Python program to read first n lines of a file"
   ]
  },
  {
   "cell_type": "code",
   "execution_count": 35,
   "metadata": {},
   "outputs": [
    {
     "name": "stdout",
     "output_type": "stream",
     "text": [
      "Her name was Eudocia Tomas Pulido. We called her Lola.\n",
      " Listen to the audio version of this article:Feature stories,They told us so.\n",
      " To our American neighbors, we were model immigrants, a poster family.\n",
      " After my mother died of leukemia, in 1999, Lola came to live with me in a small town north of Seattle.\n",
      " "
     ]
    }
   ],
   "source": [
    "a=open(\"demo2.txt\", \"w\")\n",
    "s='''Her name was Eudocia Tomas Pulido. We called her Lola.\n",
    "Listen to the audio version of this article:Feature stories,They told us so.\n",
    "To our American neighbors, we were model immigrants, a poster family.\n",
    "After my mother died of leukemia, in 1999, Lola came to live with me in a small town north of Seattle.\n",
    "At baggage claim in Manila, I unzipped my suitcase to make sure Lola’s ashes were still there.\n",
    "Early the next morning I found a driver, an affable middle-aged man who went by the nickname “Doods”.'''\n",
    "a.write(s)\n",
    "a.close()\n",
    "a=open(\"demo2.txt\",\"r\")\n",
    "n=4\n",
    "for i in range(n):\n",
    "    line=a.readline()\n",
    "    print(line,end=' ')\n",
    "a.close()\n"
   ]
  },
  {
   "cell_type": "markdown",
   "metadata": {},
   "source": [
    "#Write a Python program to append text to a file and display the text"
   ]
  },
  {
   "cell_type": "code",
   "execution_count": 41,
   "metadata": {},
   "outputs": [
    {
     "name": "stdout",
     "output_type": "stream",
     "text": [
      "Output of Readlines after appending\n",
      "Hannah Baker\n",
      "Lucifer\n",
      "sherlock holmes\n",
      "Today\n",
      "Output of Readlines after writing\n",
      "Tomorrow\n"
     ]
    }
   ],
   "source": [
    "f=open(\"demo3.txt\", \"w\") \n",
    "a=[\"Hannah Baker\\n\", \"Lucifer\\n\",\"sherlock holmes\"] \n",
    "f.writelines(a) \n",
    "f.close() \n",
    "\n",
    "f=open(\"demo3.txt\", \"a\")\n",
    "f.write(\"\\nToday\") \n",
    "f.close() \n",
    "   \n",
    "f=open(\"demo3.txt\", \"r\") \n",
    "print(\"Output of Readlines after appending\") \n",
    "print(f.read())\n",
    "f.close() \n",
    "    \n",
    "f=open(\"demo3.txt\", \"w\")  \n",
    "f.write(\"Tomorrow\") \n",
    "f.close() \n",
    "   \n",
    "f=open(\"demo3.txt\", \"r\") \n",
    "print(\"Output of Readlines after writing\") \n",
    "print(f.read()) \n",
    "f.close() "
   ]
  },
  {
   "cell_type": "markdown",
   "metadata": {},
   "source": [
    "#Write a Python program to read last n lines of a file."
   ]
  },
  {
   "cell_type": "code",
   "execution_count": 26,
   "metadata": {},
   "outputs": [
    {
     "name": "stdout",
     "output_type": "stream",
     "text": [
      "To our American neighbors, we were model immigrants, a poster family.\n",
      " After my mother died of leukemia, in 1999, Lola came to live with me in a small town north of Seattle.\n",
      " At baggage claim in Manila, I unzipped my suitcase to make sure Lola’s ashes were still there.\n",
      " Early the next morning I found a driver, an affable middle-aged man who went by the nickname “Doods”. "
     ]
    }
   ],
   "source": [
    "a=open(\"demo2.txt\",\"r\")\n",
    "n=4\n",
    "for i in (a.readlines() [-n:]): \n",
    "            print(i,end=' ')\n",
    "a.close()\n"
   ]
  },
  {
   "cell_type": "markdown",
   "metadata": {},
   "source": [
    "#Write a Python program to read a file line by line store it into a variable."
   ]
  },
  {
   "cell_type": "code",
   "execution_count": 28,
   "metadata": {},
   "outputs": [
    {
     "name": "stdout",
     "output_type": "stream",
     "text": [
      "['hi', 'hlo', 'good', 'morning', 'welcome', 'to', 'python', 'class']\n"
     ]
    }
   ],
   "source": [
    "f2=open(\"demo4.txt\",\"w\")\n",
    "s='''hi\n",
    "hlo\n",
    "good morning\n",
    "welcome to\n",
    "python\n",
    "class'''\n",
    "f2.write(s)\n",
    "f2.close()\n",
    "f2=open(\"demo4.txt\",\"r\")\n",
    "s=f2.read()\n",
    "print(s.split())"
   ]
  },
  {
   "cell_type": "markdown",
   "metadata": {},
   "source": [
    "#Write a Python program to read a file line by line and store it into a list"
   ]
  },
  {
   "cell_type": "code",
   "execution_count": 30,
   "metadata": {},
   "outputs": [
    {
     "name": "stdout",
     "output_type": "stream",
     "text": [
      "['hi\\n', 'hlo\\n', 'good morning\\n', 'welcome to\\n', 'python\\n', 'class']\n"
     ]
    }
   ],
   "source": [
    "f=open(\"demo4.txt\",\"r\")\n",
    "list1=f.readlines()\n",
    "print(list1)"
   ]
  },
  {
   "cell_type": "markdown",
   "metadata": {},
   "source": [
    "#Write a Python program to read a file line by line store it into an array"
   ]
  },
  {
   "cell_type": "code",
   "execution_count": 34,
   "metadata": {},
   "outputs": [
    {
     "name": "stdout",
     "output_type": "stream",
     "text": [
      "['hi\\n', 'hlo\\n', 'good morning\\n', 'welcome to\\n', 'python\\n', 'class']\n"
     ]
    }
   ],
   "source": [
    "f=open(\"demo4.txt\",\"r\")\n",
    "array1=[]\n",
    "for i in f:\n",
    "    array1.append(i)\n",
    "print(array1)"
   ]
  },
  {
   "cell_type": "markdown",
   "metadata": {},
   "source": [
    "#Write a Python program to count the number of lines in a text file"
   ]
  },
  {
   "cell_type": "code",
   "execution_count": 40,
   "metadata": {},
   "outputs": [
    {
     "name": "stdout",
     "output_type": "stream",
     "text": [
      "The number of lines in the file: 6\n"
     ]
    }
   ],
   "source": [
    "f=open(\"demo2.txt\",\"r\") \n",
    "n=0\n",
    "a=f.read() \n",
    "list1=a.split(\"\\n\")   \n",
    "for i in list1: \n",
    "    if i: \n",
    "        n += 1        \n",
    "print(\"The number of lines in the file:\", n) "
   ]
  },
  {
   "cell_type": "markdown",
   "metadata": {},
   "source": [
    "#Write a Python program to get the file size of a plain file"
   ]
  },
  {
   "cell_type": "code",
   "execution_count": 49,
   "metadata": {},
   "outputs": [
    {
     "name": "stdout",
     "output_type": "stream",
     "text": [
      "size of file is 506 bytes\n"
     ]
    }
   ],
   "source": [
    "import os\n",
    "a=os.stat('demo2.txt')\n",
    "print(\"size of file is\", a.st_size,\"bytes\")\n"
   ]
  },
  {
   "cell_type": "markdown",
   "metadata": {},
   "source": [
    "#Write a Python program to copy the contents of a file to another file"
   ]
  },
  {
   "cell_type": "code",
   "execution_count": 50,
   "metadata": {},
   "outputs": [
    {
     "name": "stdout",
     "output_type": "stream",
     "text": [
      "hi\n",
      "hlo\n",
      "good morning\n",
      "welcome to\n",
      "python\n",
      "class\n"
     ]
    }
   ],
   "source": [
    "import shutil\n",
    "shutil.copyfile(\"demo4.txt\",\"demo5.txt\")\n",
    "f=open(\"demo5.txt\",\"r\")\n",
    "print(f.read())\n"
   ]
  },
  {
   "cell_type": "code",
   "execution_count": null,
   "metadata": {},
   "outputs": [],
   "source": []
  }
 ],
 "metadata": {
  "kernelspec": {
   "display_name": "Python 3",
   "language": "python",
   "name": "python3"
  },
  "language_info": {
   "codemirror_mode": {
    "name": "ipython",
    "version": 3
   },
   "file_extension": ".py",
   "mimetype": "text/x-python",
   "name": "python",
   "nbconvert_exporter": "python",
   "pygments_lexer": "ipython3",
   "version": "3.7.6"
  }
 },
 "nbformat": 4,
 "nbformat_minor": 4
}
