{
  "nbformat": 4,
  "nbformat_minor": 0,
  "metadata": {
    "colab": {
      "name": "assmnt.ipynb",
      "provenance": [],
      "collapsed_sections": [],
      "authorship_tag": "ABX9TyNp+zgJSDI6OMP/KhGIJeR7",
      "include_colab_link": true
    },
    "kernelspec": {
      "name": "python3",
      "display_name": "Python 3"
    }
  },
  "cells": [
    {
      "cell_type": "markdown",
      "metadata": {
        "id": "view-in-github",
        "colab_type": "text"
      },
      "source": [
        "<a href=\"https://colab.research.google.com/github/GopalMahithvarma/assinments/blob/master/assmnt.ipynb\" target=\"_parent\"><img src=\"https://colab.research.google.com/assets/colab-badge.svg\" alt=\"Open In Colab\"/></a>"
      ]
    },
    {
      "cell_type": "code",
      "metadata": {
        "id": "Xok0D3cr34U-",
        "colab_type": "code",
        "colab": {}
      },
      "source": [
        ""
      ],
      "execution_count": null,
      "outputs": []
    },
    {
      "cell_type": "markdown",
      "metadata": {
        "id": "PywCXAVoA37Z",
        "colab_type": "text"
      },
      "source": [
        "# **1.Find minimum of three numbers**"
      ]
    },
    {
      "cell_type": "code",
      "metadata": {
        "id": "TXhQR9e8gmEU",
        "colab_type": "code",
        "colab": {
          "base_uri": "https://localhost:8080/",
          "height": 84
        },
        "outputId": "c42a733b-7a95-4cdd-e778-28f03b78d811"
      },
      "source": [
        "a=input(\"Enter value of a:\")\n",
        "b=input(\"Enter value of b:\")\n",
        "c=input(\"Enter value of c:\")\n",
        "if(a <= b and a <= c): \n",
        "    print(a, \"is the smallest\")   \n",
        "elif(b <= a and b <= c): \n",
        "    print(b, \"is the smallest\") \n",
        "else: \n",
        "    print(c, \"is the smallest\")"
      ],
      "execution_count": 8,
      "outputs": [
        {
          "output_type": "stream",
          "text": [
            "Enter value of a:16\n",
            "Enter value of b:20\n",
            "Enter value of c:10\n",
            "10 is the smallest\n"
          ],
          "name": "stdout"
        }
      ]
    },
    {
      "cell_type": "markdown",
      "metadata": {
        "id": "77mBJF9pCbkg",
        "colab_type": "text"
      },
      "source": [
        "# **2.find the GCD and LCM of two/three numbers**"
      ]
    },
    {
      "cell_type": "code",
      "metadata": {
        "id": "gDjAvrIN347i",
        "colab_type": "code",
        "colab": {
          "base_uri": "https://localhost:8080/",
          "height": 50
        },
        "outputId": "2e38bfb0-7b03-4e80-ea5f-1719742caae6"
      },
      "source": [
        "def gcd(a,b): \n",
        "     if a == 0: \n",
        "         return b \n",
        "     return gcd(b % a, a) \n",
        "def lcm(a,b): \n",
        "     return (a*b) / gcd(a,b) \n",
        "a = 12\n",
        "b = 20\n",
        "print('LCM of', a, 'and', b, 'is', lcm(a, b))\n",
        "print('GCD of', a, 'and', b, 'is', gcd(a, b))"
      ],
      "execution_count": 9,
      "outputs": [
        {
          "output_type": "stream",
          "text": [
            "LCM of 12 and 20 is 60.0\n",
            "GCD of 12 and 20 is 4\n"
          ],
          "name": "stdout"
        }
      ]
    },
    {
      "cell_type": "markdown",
      "metadata": {
        "id": "Ldxmu9qeDgZf",
        "colab_type": "text"
      },
      "source": [
        "# **3.check whether given number is perfect or not**"
      ]
    },
    {
      "cell_type": "code",
      "metadata": {
        "id": "bUwXDVSq3fLr",
        "colab_type": "code",
        "colab": {
          "base_uri": "https://localhost:8080/",
          "height": 50
        },
        "outputId": "8553d632-21d7-4f0e-fe3f-2ef174c0e134"
      },
      "source": [
        "n=int(input(\"Enter a number\"))\n",
        "a=0\n",
        "for i in range(1, n):\n",
        "    if(n%i==0):\n",
        "        a=a+i\n",
        "if (a==n):\n",
        "    print(\" %d is a Perfect Number\" %n)\n",
        "else:\n",
        "    print(\" %d is not a Perfect Number\" %n)"
      ],
      "execution_count": 1,
      "outputs": [
        {
          "output_type": "stream",
          "text": [
            "Enter a number6\n",
            " 6 is a Perfect Number\n"
          ],
          "name": "stdout"
        }
      ]
    },
    {
      "cell_type": "markdown",
      "metadata": {
        "id": "1D5U25h4UFZu",
        "colab_type": "text"
      },
      "source": [
        "# **4.Print twin primes upto specified limit**"
      ]
    },
    {
      "cell_type": "code",
      "metadata": {
        "id": "2sxV9aOKUTBF",
        "colab_type": "code",
        "colab": {
          "base_uri": "https://localhost:8080/",
          "height": 84
        },
        "outputId": "a76de9ec-4516-43ec-85a8-f6d84f9785a5"
      },
      "source": [
        "def s(n):\n",
        "   for i in range(2, n):\n",
        "      if n % i == 0:\n",
        "         return False\n",
        "   return True\n",
        " \n",
        "def generate_twins(start, end):\n",
        "   for i in range(start, end):\n",
        "      j = i + 2\n",
        "      if(s(i) and s(j)):\n",
        "         print(\"{:d} and {:d}\".format(i, j))\n",
        " generate_twins(20, 100)"
      ],
      "execution_count": 16,
      "outputs": [
        {
          "output_type": "stream",
          "text": [
            "29 and 31\n",
            "41 and 43\n",
            "59 and 61\n",
            "71 and 73\n"
          ],
          "name": "stdout"
        }
      ]
    },
    {
      "cell_type": "markdown",
      "metadata": {
        "id": "-dZEEHDFU4hm",
        "colab_type": "text"
      },
      "source": [
        "# **5.Print prime numbers up to specified limited**"
      ]
    },
    {
      "cell_type": "code",
      "metadata": {
        "id": "0_MOioh5V3fa",
        "colab_type": "code",
        "colab": {
          "base_uri": "https://localhost:8080/",
          "height": 286
        },
        "outputId": "f90b574c-669f-4b2d-9d1d-cecebcc0ed7a"
      },
      "source": [
        "lower=30\n",
        "upper=100\n",
        "print(\"Prime numbers between\", lower, \"and\", upper, \"are:\")\n",
        "for n in range(lower, upper + 1):\n",
        "   if n > 1:\n",
        "       for i in range(2,n):\n",
        "           if (n % i) == 0:\n",
        "               break\n",
        "       else:\n",
        "           print(n)"
      ],
      "execution_count": 19,
      "outputs": [
        {
          "output_type": "stream",
          "text": [
            "Prime numbers between 30 and 100 are:\n",
            "31\n",
            "37\n",
            "41\n",
            "43\n",
            "47\n",
            "53\n",
            "59\n",
            "61\n",
            "67\n",
            "71\n",
            "73\n",
            "79\n",
            "83\n",
            "89\n",
            "97\n"
          ],
          "name": "stdout"
        }
      ]
    },
    {
      "cell_type": "markdown",
      "metadata": {
        "id": "21c7WLIrW0DL",
        "colab_type": "text"
      },
      "source": [
        "# **6.Find the sum of digits of a number is Armstrong number or not**"
      ]
    },
    {
      "cell_type": "code",
      "metadata": {
        "id": "WP4lwwJ5Wy18",
        "colab_type": "code",
        "colab": {
          "base_uri": "https://localhost:8080/",
          "height": 50
        },
        "outputId": "faecbcb5-aac3-49e2-e88c-0f0347713b74"
      },
      "source": [
        "n = int(input(\"Enter a number: \"))  \n",
        "s = 0  \n",
        "temp = n \n",
        "while temp > 0:  \n",
        "   digit = temp % 10  \n",
        "   s += digit ** 3  \n",
        "   temp //= 10  \n",
        "  \n",
        "if n == s:  \n",
        "   print(n,\"is an Armstrong number\")  \n",
        "else:  \n",
        "   print(n,\"is not an Armstrong \")"
      ],
      "execution_count": 20,
      "outputs": [
        {
          "output_type": "stream",
          "text": [
            "Enter a number: 153\n",
            "153 is an Armstrong number\n"
          ],
          "name": "stdout"
        }
      ]
    },
    {
      "cell_type": "markdown",
      "metadata": {
        "id": "iB-A20ieXbSP",
        "colab_type": "text"
      },
      "source": [
        "# **7.Swapping of two numbers**"
      ]
    },
    {
      "cell_type": "code",
      "metadata": {
        "id": "_nEoaB3PX3a5",
        "colab_type": "code",
        "colab": {
          "base_uri": "https://localhost:8080/",
          "height": 84
        },
        "outputId": "f8084403-b6be-4418-dd87-93a1802c2122"
      },
      "source": [
        "x = input('Enter value of x:')\n",
        "y = input('Enter value of y:')\n",
        "temp = x\n",
        "x = y\n",
        "y = temp\n",
        "print('The value of x after swapping: {}'.format(x))\n",
        "print('The value of y after swapping: {}'.format(y))"
      ],
      "execution_count": 22,
      "outputs": [
        {
          "output_type": "stream",
          "text": [
            "Enter value of x:2\n",
            "Enter value of y:5\n",
            "The value of x after swapping: 5\n",
            "The value of y after swapping: 2\n"
          ],
          "name": "stdout"
        }
      ]
    },
    {
      "cell_type": "markdown",
      "metadata": {
        "id": "8hRk2ooMYK-8",
        "colab_type": "text"
      },
      "source": [
        "# **8.perfrom all five arithmetic operator**"
      ]
    },
    {
      "cell_type": "code",
      "metadata": {
        "id": "ObtOBanBYUx4",
        "colab_type": "code",
        "colab": {
          "base_uri": "https://localhost:8080/",
          "height": 151
        },
        "outputId": "6185935e-c503-4858-a622-81be85d3c0e7"
      },
      "source": [
        "x = float(input(\"enter a num : \"))\n",
        "y = float(input (\"enter a num : \"))\n",
        " \n",
        "print('x + y =',x+y)\n",
        " \n",
        "print('x - y =',x-y)\n",
        " \n",
        "print('x * y =',x*y)\n",
        " \n",
        "print('x / y =',x/y)\n",
        "  \n",
        "print('x // y =',x//y)\n",
        " \n",
        "print('x ** y =',x**y)\n"
      ],
      "execution_count": 23,
      "outputs": [
        {
          "output_type": "stream",
          "text": [
            "enter a num : 5\n",
            "enter a num : 5\n",
            "x + y = 10.0\n",
            "x - y = 0.0\n",
            "x * y = 25.0\n",
            "x / y = 1.0\n",
            "x // y = 1.0\n",
            "x ** y = 3125.0\n"
          ],
          "name": "stdout"
        }
      ]
    }
  ]
}