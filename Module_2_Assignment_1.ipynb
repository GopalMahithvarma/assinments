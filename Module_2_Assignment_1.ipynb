{
  "nbformat": 4,
  "nbformat_minor": 0,
  "metadata": {
    "colab": {
      "name": "Module_2_Assignment_1.ipynb",
      "provenance": [],
      "toc_visible": true
    },
    "kernelspec": {
      "name": "python3",
      "display_name": "Python 3"
    }
  },
  "cells": [
    {
      "cell_type": "markdown",
      "metadata": {
        "id": "5W186dqwRsjB",
        "colab_type": "text"
      },
      "source": [
        "## **Take two inputsfrom user and check whether they are equal or not**"
      ]
    },
    {
      "cell_type": "code",
      "metadata": {
        "id": "ImCIrwcbSORz",
        "colab_type": "code",
        "colab": {
          "base_uri": "https://localhost:8080/",
          "height": 67
        },
        "outputId": "74e39a99-237c-48fe-a9ba-dbdc465ae387"
      },
      "source": [
        "a=int(input(\"Enter the first number\"))\n",
        "b=int(input(\"Enter the second number\"))\n",
        "if a==b:\n",
        "  print(\"Both are equal Numbers\")\n",
        "else:\n",
        "  print(\"Not equal Numbers\")"
      ],
      "execution_count": 2,
      "outputs": [
        {
          "output_type": "stream",
          "text": [
            "Enter the first number22\n",
            "Enter the second number22\n",
            "Both are equal Numbers\n"
          ],
          "name": "stdout"
        }
      ]
    },
    {
      "cell_type": "markdown",
      "metadata": {
        "id": "TuMuz6xPTXqD",
        "colab_type": "text"
      },
      "source": [
        "## **Take 3 inputs from user and check**\n",
        "1.   All are equal\n",
        "2.   Any of two are equal(**use** and or)\n",
        "\n",
        "\n"
      ]
    },
    {
      "cell_type": "code",
      "metadata": {
        "id": "nGrojyCaUbYR",
        "colab_type": "code",
        "colab": {
          "base_uri": "https://localhost:8080/",
          "height": 101
        },
        "outputId": "cd3bffed-962a-49a1-db72-66290a431cbf"
      },
      "source": [
        "a=int(input(\"Enter the first number\"))\n",
        "b=int(input(\"Enter the second number\"))\n",
        "c=int(input(\"Enter the third number\"))\n",
        "s=a==b and b==c and c==a\n",
        "print(\"All are equal\", s)\n",
        "n=a==b or b==c or c==a\n",
        "print(\"Any of two are equal\", n)"
      ],
      "execution_count": 13,
      "outputs": [
        {
          "output_type": "stream",
          "text": [
            "Enter the first number2\n",
            "Enter the second number5\n",
            "Enter the third number2\n",
            "All are equal False\n",
            "Any of two are equal True\n"
          ],
          "name": "stdout"
        }
      ]
    },
    {
      "cell_type": "markdown",
      "metadata": {
        "id": "ibujg_7oZeTc",
        "colab_type": "text"
      },
      "source": [
        "# **Take two numbers and check whether the sum is greater than 5,less than 5 or equal to 5**"
      ]
    },
    {
      "cell_type": "code",
      "metadata": {
        "id": "Ur03r5E8aLOD",
        "colab_type": "code",
        "colab": {
          "base_uri": "https://localhost:8080/",
          "height": 67
        },
        "outputId": "0928cf53-b755-4c1c-f2ee-16f16a20a417"
      },
      "source": [
        "a=int(input(\"Enter the first number\"))\n",
        "b=int(input(\"Enter the second number\"))\n",
        "s=a+b\n",
        "if s>5:\n",
        "  print('It is greater than 5')\n",
        "elif s<5:\n",
        "  print('It is less than 5')\n",
        "else:\n",
        "  print('Equal to 5')\n",
        " "
      ],
      "execution_count": 15,
      "outputs": [
        {
          "output_type": "stream",
          "text": [
            "Enter the first number2\n",
            "Enter the second number3\n",
            "Equal to 5\n"
          ],
          "name": "stdout"
        }
      ]
    },
    {
      "cell_type": "markdown",
      "metadata": {
        "id": "nIg1I5Sxbzih",
        "colab_type": "text"
      },
      "source": [
        "# **Suppose passing marks of a subject is 35. take input of marks from the user and check whether it is greater than the passing marks or not**"
      ]
    },
    {
      "cell_type": "code",
      "metadata": {
        "id": "oIC2UR8ucuI0",
        "colab_type": "code",
        "colab": {
          "base_uri": "https://localhost:8080/",
          "height": 50
        },
        "outputId": "0dcc9610-ac59-46af-bfd1-5d286f6b0f16"
      },
      "source": [
        "a=int(input('Enter the marks obtained'))\n",
        "p=35\n",
        "if a>=35:\n",
        "  print('Greater than passing marks')\n",
        "else:\n",
        "  print('less than passing marks')"
      ],
      "execution_count": 17,
      "outputs": [
        {
          "output_type": "stream",
          "text": [
            "Enter the marks obtained22\n",
            "less than passing marks\n"
          ],
          "name": "stdout"
        }
      ]
    },
    {
      "cell_type": "markdown",
      "metadata": {
        "id": "MgR3G0spedOG",
        "colab_type": "text"
      },
      "source": [
        "# **Write a python function to find the Max of three numbers**"
      ]
    },
    {
      "cell_type": "code",
      "metadata": {
        "id": "yUfvSIQ-fKSx",
        "colab_type": "code",
        "colab": {
          "base_uri": "https://localhost:8080/",
          "height": 84
        },
        "outputId": "e91463ba-d468-4042-aad4-39d140d0d604"
      },
      "source": [
        "a=int(input(\"Enter the first number\"))\n",
        "b=int(input(\"Enter the second number\"))\n",
        "c=int(input(\"Enter the third number\"))\n",
        "if a>b and a>c :\n",
        " print(\"Biggest Number=\",a)\n",
        "elif b>a and b>c:\n",
        " print(\"Biggest Number=\",b)\n",
        "else:\n",
        " print(\"Biggest Number=\",c)    "
      ],
      "execution_count": 19,
      "outputs": [
        {
          "output_type": "stream",
          "text": [
            "Enter the first number2\n",
            "Enter the second number3\n",
            "Enter the third number4\n",
            "Biggest Number= 4\n"
          ],
          "name": "stdout"
        }
      ]
    }
  ]
}