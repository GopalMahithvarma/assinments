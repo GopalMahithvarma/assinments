{
  "nbformat": 4,
  "nbformat_minor": 0,
  "metadata": {
    "colab": {
      "name": "Assinment_2_module_2.ipynb",
      "provenance": []
    },
    "kernelspec": {
      "name": "python3",
      "display_name": "Python 3"
    }
  },
  "cells": [
    {
      "cell_type": "markdown",
      "metadata": {
        "id": "18IB8WD54AoF",
        "colab_type": "text"
      },
      "source": [
        "# **Write a python function to find the Max of three numbers**"
      ]
    },
    {
      "cell_type": "code",
      "metadata": {
        "id": "ZAr7aX4K8jgm",
        "colab_type": "code",
        "colab": {
          "base_uri": "https://localhost:8080/",
          "height": 34
        },
        "outputId": "33351e3d-c413-4524-b82a-1671346c1b45"
      },
      "source": [
        "def biggest(a,b,c):\n",
        "  if a>b and a>c:\n",
        "   print(\"Biggest Number=\",a)\n",
        "  elif b>a and b>c:\n",
        "   print(\"Biggest Number=\",b)\n",
        "  else:\n",
        "   print(\"Biggest Number=\",c)\n",
        "biggest(8,1,9)"
      ],
      "execution_count": 28,
      "outputs": [
        {
          "output_type": "stream",
          "text": [
            "Biggest Number= 9\n"
          ],
          "name": "stdout"
        }
      ]
    },
    {
      "cell_type": "markdown",
      "metadata": {
        "id": "LVLOX7aY9nsS",
        "colab_type": "text"
      },
      "source": [
        "# **Write a python program to reverse a string**"
      ]
    },
    {
      "cell_type": "code",
      "metadata": {
        "id": "90IqMJ4Y95Hq",
        "colab_type": "code",
        "colab": {
          "base_uri": "https://localhost:8080/",
          "height": 50
        },
        "outputId": "82f8a0ed-3a73-4815-99df-2cd6acfcd520"
      },
      "source": [
        "def reverse(s): \n",
        "    if len(s)==0: \n",
        "        return s \n",
        "    else: \n",
        "        return reverse(s[1:])+s[0] \n",
        "s=\"python\" \n",
        "print(\"The original string is: \",s)  \n",
        "print(\"The reversed string is: \",reverse(s))"
      ],
      "execution_count": 29,
      "outputs": [
        {
          "output_type": "stream",
          "text": [
            "The original string is:  python\n",
            "The reversed string is:  nohtyp\n"
          ],
          "name": "stdout"
        }
      ]
    },
    {
      "cell_type": "markdown",
      "metadata": {
        "id": "dAYhHpTlAG6W",
        "colab_type": "text"
      },
      "source": [
        "# **Write a python function to check whether the number is prime or not**"
      ]
    },
    {
      "cell_type": "code",
      "metadata": {
        "id": "cmPMQFMPB3XA",
        "colab_type": "code",
        "colab": {
          "base_uri": "https://localhost:8080/",
          "height": 34
        },
        "outputId": "6854e162-182f-4049-b9a0-6aa2ffe8b2e1"
      },
      "source": [
        "def Prime(n) : \n",
        "    if (n<=1) : \n",
        "        return False\n",
        "    if (n<=3) : \n",
        "        return True\n",
        "    if (n%2==0 or n%3==0) : \n",
        "        return False\n",
        "    i=5\n",
        "    while(i*i<=n) : \n",
        "        if (n%i==0 or n%(i+2)==0) : \n",
        "            return False\n",
        "        i=i+6\n",
        "    return True \n",
        "if (Prime(11)) : \n",
        "    print(\"The given number is a prime number\") \n",
        "else : \n",
        "    print(\"The given numbers is not a prime number\") \n"
      ],
      "execution_count": 44,
      "outputs": [
        {
          "output_type": "stream",
          "text": [
            "The given number is a prime number\n"
          ],
          "name": "stdout"
        }
      ]
    },
    {
      "cell_type": "markdown",
      "metadata": {
        "id": "5dhX3ijdDwWb",
        "colab_type": "text"
      },
      "source": [
        "# **Write a python function  to find sum of squares of first n natural numbers**"
      ]
    },
    {
      "cell_type": "code",
      "metadata": {
        "id": "grgI066YF7KI",
        "colab_type": "code",
        "colab": {
          "base_uri": "https://localhost:8080/",
          "height": 34
        },
        "outputId": "baacfacf-2208-4f1d-9610-6a77d6dead68"
      },
      "source": [
        "def square(n):\n",
        "    s=(n*(n+1)*(2*n+1))//6 \n",
        "    return s\n",
        "n=4\n",
        "print(square(n))"
      ],
      "execution_count": 56,
      "outputs": [
        {
          "output_type": "stream",
          "text": [
            "30\n"
          ],
          "name": "stdout"
        }
      ]
    }
  ]
}