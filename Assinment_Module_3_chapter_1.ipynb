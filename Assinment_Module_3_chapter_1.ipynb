{
  "nbformat": 4,
  "nbformat_minor": 0,
  "metadata": {
    "colab": {
      "name": "Assinment_Module_3_chapter_1.ipynb",
      "provenance": [],
      "collapsed_sections": [],
      "toc_visible": true,
      "authorship_tag": "ABX9TyO1hWkieqlsN0Ymg99LbFDF",
      "include_colab_link": true
    },
    "kernelspec": {
      "name": "python3",
      "display_name": "Python 3"
    }
  },
  "cells": [
    {
      "cell_type": "markdown",
      "metadata": {
        "id": "view-in-github",
        "colab_type": "text"
      },
      "source": [
        "<a href=\"https://colab.research.google.com/github/GopalMahithvarma/assinments/blob/master/Assinment_Module_3_chapter_1.ipynb\" target=\"_parent\"><img src=\"https://colab.research.google.com/assets/colab-badge.svg\" alt=\"Open In Colab\"/></a>"
      ]
    },
    {
      "cell_type": "markdown",
      "metadata": {
        "id": "QgskNmbS5bOU",
        "colab_type": "text"
      },
      "source": [
        "# **Convert Binary number to decimal**\n",
        "Ex:1 0 0 1 0 =1 x 2^5 + 0 x 2^4 + 0 x 2^3 + 1 x 2^2 + 0 x 2^1 \n",
        "\n",
        "\n",
        "\n",
        "\n"
      ]
    },
    {
      "cell_type": "code",
      "metadata": {
        "id": "D07MZXRx9Y85",
        "colab_type": "code",
        "colab": {
          "base_uri": "https://localhost:8080/",
          "height": 50
        },
        "outputId": "0c3c54f5-4d4f-466f-ef6a-d3118c7e702a"
      },
      "source": [
        "n=list(input(\"Input a binary number\"))\n",
        "value=0\n",
        "for i in range(len(n)):\n",
        "\tdigit=n.pop()\n",
        "\tif digit == '1':\n",
        "\t\tvalue=value+pow(2,i)\n",
        "print(\"The decimal value of the number is\", value)"
      ],
      "execution_count": null,
      "outputs": [
        {
          "output_type": "stream",
          "text": [
            "Input a binary number10010\n",
            "The decimal value of the number is 18\n"
          ],
          "name": "stdout"
        }
      ]
    },
    {
      "cell_type": "markdown",
      "metadata": {
        "id": "Lsdpk9a8O3d6",
        "colab_type": "text"
      },
      "source": [
        "# **Generate first N numbers of Fibonacci numbers.Take N value from the user**"
      ]
    },
    {
      "cell_type": "code",
      "metadata": {
        "id": "-ryNSRFBPkyV",
        "colab_type": "code",
        "colab": {
          "base_uri": "https://localhost:8080/",
          "height": 202
        },
        "outputId": "e3605f3c-3335-40a6-9e30-dc8b550166a0"
      },
      "source": [
        "\n",
        "def Fibonacci(n):      \n",
        "    f1=0\n",
        "    f2=1\n",
        "    if (n<1): \n",
        "        return\n",
        "    for x in range(0,n): \n",
        "        print(f2) \n",
        "        next=f1+f2 \n",
        "        f1=f2 \n",
        "        f2=next\n",
        "Fibonacci(n=int(input(\"Enter the number of fibonacci numbers to be print\")))\n"
      ],
      "execution_count": null,
      "outputs": [
        {
          "output_type": "stream",
          "text": [
            "Enter the number of fibonacci numbers to be print10\n",
            "1\n",
            "1\n",
            "2\n",
            "3\n",
            "5\n",
            "8\n",
            "13\n",
            "21\n",
            "34\n",
            "55\n"
          ],
          "name": "stdout"
        }
      ]
    },
    {
      "cell_type": "markdown",
      "metadata": {
        "id": "cwNWvJfvSGY4",
        "colab_type": "text"
      },
      "source": [
        "# **Display multiplication table of K.Take k value from user**"
      ]
    },
    {
      "cell_type": "code",
      "metadata": {
        "id": "Cw6BUmj3SdmP",
        "colab_type": "code",
        "colab": {
          "base_uri": "https://localhost:8080/",
          "height": 202
        },
        "outputId": "acdf6d81-5271-405d-abf2-0f6f661ad48c"
      },
      "source": [
        "n=int(input(\"Multiplication table of\"))\n",
        "for i in range(1, 11):\n",
        "   print(n, 'x',i, '=',n*i)"
      ],
      "execution_count": null,
      "outputs": [
        {
          "output_type": "stream",
          "text": [
            "Multiplication table of9\n",
            "9 x 1 = 9\n",
            "9 x 2 = 18\n",
            "9 x 3 = 27\n",
            "9 x 4 = 36\n",
            "9 x 5 = 45\n",
            "9 x 6 = 54\n",
            "9 x 7 = 63\n",
            "9 x 8 = 72\n",
            "9 x 9 = 81\n",
            "9 x 10 = 90\n"
          ],
          "name": "stdout"
        }
      ]
    },
    {
      "cell_type": "markdown",
      "metadata": {
        "id": "PJL-pX_BTeM5",
        "colab_type": "text"
      },
      "source": [
        "# **Take 10 integers from keyboard using loop and print their average value on the screen print the following patterns using loops**\n",
        "# *\n",
        "# **\n",
        "#***\n",
        "# ****\n"
      ]
    },
    {
      "cell_type": "code",
      "metadata": {
        "id": "Gs9avhNNauTk",
        "colab_type": "code",
        "colab": {
          "base_uri": "https://localhost:8080/",
          "height": 218
        },
        "outputId": "fa74e114-7510-4319-f902-f054f0a4c9fc"
      },
      "source": [
        "n=int(input('How many numbers'))\n",
        "s=0\n",
        "for m in range(n):\n",
        "    a=int(input('Enter number'))\n",
        "    s+=a\n",
        "avg=s/n\n",
        "print('Average is ', avg)"
      ],
      "execution_count": 11,
      "outputs": [
        {
          "output_type": "stream",
          "text": [
            "How many numbers10\n",
            "Enter number1\n",
            "Enter number0\n",
            "Enter number2\n",
            "Enter number3\n",
            "Enter number4\n",
            "Enter number6\n",
            "Enter number7\n",
            "Enter number8\n",
            "Enter number9\n",
            "Enter number10\n",
            "Average is  5.0\n"
          ],
          "name": "stdout"
        }
      ]
    },
    {
      "cell_type": "code",
      "metadata": {
        "id": "1adGew97gICs",
        "colab_type": "code",
        "colab": {
          "base_uri": "https://localhost:8080/",
          "height": 101
        },
        "outputId": "4b448660-90bd-4e3b-8852-581726b07273"
      },
      "source": [
        "rows = 5\n",
        "for i in range(0, rows):\n",
        "    for j in range(0, i + 1):\n",
        "        print(\"*\",end=' ')\n",
        "    print(\"\\r\")\n"
      ],
      "execution_count": 16,
      "outputs": [
        {
          "output_type": "stream",
          "text": [
            "* \r\n",
            "* * \r\n",
            "* * * \r\n",
            "* * * * \r\n",
            "* * * * * \r\n"
          ],
          "name": "stdout"
        }
      ]
    },
    {
      "cell_type": "markdown",
      "metadata": {
        "id": "P0vTa4VFgr2E",
        "colab_type": "text"
      },
      "source": [
        "# **Write a program to find the GCD or HCF of given two numbers**"
      ]
    },
    {
      "cell_type": "code",
      "metadata": {
        "id": "AhDOfZb9he2C",
        "colab_type": "code",
        "colab": {
          "base_uri": "https://localhost:8080/",
          "height": 67
        },
        "outputId": "bdfc387f-1a5b-47b3-cc01-c5a0f8145490"
      },
      "source": [
        "def hcf(x, y):\n",
        "    if x>y:\n",
        "        smaller=y\n",
        "    else:\n",
        "        smaller=x\n",
        "    for i in range(1, smaller+1):\n",
        "        if((x%i==0) and (y%i==0)):\n",
        "            hcf=i \n",
        "    return hcf\n",
        "n1=int(input(\"Enter the first number\"))\n",
        "n2=int(input(\"Enter the second number\"))\n",
        "print(\"The H.C.F. is\", hcf(n1,n2))"
      ],
      "execution_count": 21,
      "outputs": [
        {
          "output_type": "stream",
          "text": [
            "Enter the first number98\n",
            "Enter the second number22\n",
            "The H.C.F. is 2\n"
          ],
          "name": "stdout"
        }
      ]
    },
    {
      "cell_type": "markdown",
      "metadata": {
        "id": "2Bm386MgjW9p",
        "colab_type": "text"
      },
      "source": [
        "# **Write a pythonn program that accepts a word from user and reverse it**"
      ]
    },
    {
      "cell_type": "code",
      "metadata": {
        "id": "8uVDtwFkjuJ9",
        "colab_type": "code",
        "colab": {
          "base_uri": "https://localhost:8080/",
          "height": 50
        },
        "outputId": "ca097111-d500-4806-9cd6-4fd5ad2caccc"
      },
      "source": [
        "a=input(\"Input a word to reverse: \")\n",
        "for j in range(len(a) - 1, -1, -1):\n",
        "  print(a[j],end=\"\")"
      ],
      "execution_count": 27,
      "outputs": [
        {
          "output_type": "stream",
          "text": [
            "Input a word to reverse: python\n",
            "nohtyp"
          ],
          "name": "stdout"
        }
      ]
    },
    {
      "cell_type": "markdown",
      "metadata": {
        "id": "ZZ0Sb3yykkQs",
        "colab_type": "text"
      },
      "source": [
        "# **Write a python program to count the number of even and odd numbers from a  series of numbers**"
      ]
    },
    {
      "cell_type": "code",
      "metadata": {
        "id": "Vksw9TDtlPEy",
        "colab_type": "code",
        "colab": {
          "base_uri": "https://localhost:8080/",
          "height": 50
        },
        "outputId": "0e34e112-3f47-4113-f503-07580ea27235"
      },
      "source": [
        "n=(1, 2, 3, 4, 5, 6, 7, 8, 9)\n",
        "odd=0\n",
        "even=0\n",
        "for x in n:\n",
        "        if not x % 2:\n",
        "    \t     even+=1\n",
        "        else:\n",
        "    \t     odd+=1\n",
        "print(\"Number of even numbers \",even)\n",
        "print(\"Number of odd numbers \",odd)"
      ],
      "execution_count": 28,
      "outputs": [
        {
          "output_type": "stream",
          "text": [
            "Number of even numbers  4\n",
            "Number of odd numbers  5\n"
          ],
          "name": "stdout"
        }
      ]
    },
    {
      "cell_type": "markdown",
      "metadata": {
        "id": "rNRBda24ltsg",
        "colab_type": "text"
      },
      "source": [
        "# **Write a python program that prints all the numbers from 0 to 6 expect 3 and 6**"
      ]
    },
    {
      "cell_type": "code",
      "metadata": {
        "id": "rBI4E6NwmDAo",
        "colab_type": "code",
        "colab": {
          "base_uri": "https://localhost:8080/",
          "height": 34
        },
        "outputId": "27cb9e32-899b-4e36-d767-55e303c77950"
      },
      "source": [
        "for x in range(6):\n",
        "    if (x == 3 or x==6):\n",
        "        continue\n",
        "    print(x,end=' ')"
      ],
      "execution_count": 29,
      "outputs": [
        {
          "output_type": "stream",
          "text": [
            "0 1 2 4 5 "
          ],
          "name": "stdout"
        }
      ]
    }
  ]
}