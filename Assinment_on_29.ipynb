{
  "nbformat": 4,
  "nbformat_minor": 0,
  "metadata": {
    "colab": {
      "name": "Assinment_on_29.ipynb",
      "provenance": [],
      "authorship_tag": "ABX9TyMHxT4/Mrx1MAi8+HjjSrgq",
      "include_colab_link": true
    },
    "kernelspec": {
      "name": "python3",
      "display_name": "Python 3"
    }
  },
  "cells": [
    {
      "cell_type": "markdown",
      "metadata": {
        "id": "view-in-github",
        "colab_type": "text"
      },
      "source": [
        "<a href=\"https://colab.research.google.com/github/GopalMahithvarma/assinments/blob/master/Assinment_on_29.ipynb\" target=\"_parent\"><img src=\"https://colab.research.google.com/assets/colab-badge.svg\" alt=\"Open In Colab\"/></a>"
      ]
    },
    {
      "cell_type": "markdown",
      "metadata": {
        "id": "831lhIwfVDCL",
        "colab_type": "text"
      },
      "source": [
        "# **Write a Python program to get the largest & smallest number from a list**"
      ]
    },
    {
      "cell_type": "code",
      "metadata": {
        "id": "JTG9t6H8VMQ5",
        "colab_type": "code",
        "colab": {
          "base_uri": "https://localhost:8080/",
          "height": 151
        },
        "outputId": "148bc7c2-f898-4c4b-e7b6-b7d2b14fb200"
      },
      "source": [
        "list1=[]\n",
        "n=int(input(\"Please enter the Total Number of List Elements: \"))\n",
        "for i in range(1, n+1):\n",
        "    a=int(input(\"Please enter the Value of %d Element : \" %i))\n",
        "    list1.append(a)\n",
        "print(\"The Smallest Element in this List is : \", min(list1))\n",
        "print(\"The Largest Element in this List is : \", max(list1))"
      ],
      "execution_count": 2,
      "outputs": [
        {
          "output_type": "stream",
          "text": [
            "Please enter the Total Number of List Elements: 5\n",
            "Please enter the Value of 1 Element : 1\n",
            "Please enter the Value of 2 Element : 3\n",
            "Please enter the Value of 3 Element : 1\n",
            "Please enter the Value of 4 Element : 9\n",
            "Please enter the Value of 5 Element : 4\n",
            "The Smallest Element in this List is :  1\n",
            "The Largest Element in this List is :  9\n"
          ],
          "name": "stdout"
        }
      ]
    },
    {
      "cell_type": "markdown",
      "metadata": {
        "id": "n730-K0xW1lF",
        "colab_type": "text"
      },
      "source": [
        "# **Write a Python program to remove duplicates from a list**"
      ]
    },
    {
      "cell_type": "code",
      "metadata": {
        "id": "w5WHLgkvXATN",
        "colab_type": "code",
        "colab": {
          "base_uri": "https://localhost:8080/",
          "height": 50
        },
        "outputId": "f815c8a4-91e7-40f4-fc99-0946e9716c13"
      },
      "source": [
        "list1=[1,2,3,2,1,4,6,4,7]\n",
        "print(\"list before removing duplictes\", list1)\n",
        "res=[]\n",
        "for i in list1: \n",
        "    if i not in res: \n",
        "        res.append(i) \n",
        "print(\"list after removing duplicates\", res)"
      ],
      "execution_count": 4,
      "outputs": [
        {
          "output_type": "stream",
          "text": [
            "list before removing duplictes [1, 2, 3, 2, 1, 4, 6, 4, 7]\n",
            "list after removing duplicates [1, 2, 3, 4, 6, 7]\n"
          ],
          "name": "stdout"
        }
      ]
    },
    {
      "cell_type": "markdown",
      "metadata": {
        "id": "c02T_O1RYWjT",
        "colab_type": "text"
      },
      "source": [
        "# **Write a Python program to check a list is empty or not**"
      ]
    },
    {
      "cell_type": "code",
      "metadata": {
        "id": "V6CHJpKRYcnQ",
        "colab_type": "code",
        "colab": {
          "base_uri": "https://localhost:8080/",
          "height": 34
        },
        "outputId": "d24ec775-9da6-4617-ac1b-f7a9ea790760"
      },
      "source": [
        "l=[]\n",
        "if not l:\n",
        "  print(\"List is empty\")"
      ],
      "execution_count": 5,
      "outputs": [
        {
          "output_type": "stream",
          "text": [
            "List is empty\n"
          ],
          "name": "stdout"
        }
      ]
    },
    {
      "cell_type": "markdown",
      "metadata": {
        "id": "qt9RDuv7Y1l7",
        "colab_type": "text"
      },
      "source": [
        "# **Write a Python program to clone or copy a list**"
      ]
    },
    {
      "cell_type": "code",
      "metadata": {
        "id": "aMgzDXbZZB8z",
        "colab_type": "code",
        "colab": {
          "base_uri": "https://localhost:8080/",
          "height": 50
        },
        "outputId": "6c58985d-149d-44e4-c5fb-f220e8341b81"
      },
      "source": [
        "original=[10, 22, 44, 23, 4]\n",
        "clone=list(original)\n",
        "print(original)\n",
        "print(clone)"
      ],
      "execution_count": 6,
      "outputs": [
        {
          "output_type": "stream",
          "text": [
            "[10, 22, 44, 23, 4]\n",
            "[10, 22, 44, 23, 4]\n"
          ],
          "name": "stdout"
        }
      ]
    },
    {
      "cell_type": "markdown",
      "metadata": {
        "id": "keitExiIZeoA",
        "colab_type": "text"
      },
      "source": [
        "# **Write a Python program to print a specified list after removing the 0th, 4th and 5th elements.Sample List : ['Red', 'Green', 'White', 'Black', 'Pink', 'Yellow'] Expected Output : ['Green', 'White', 'Black']**"
      ]
    },
    {
      "cell_type": "code",
      "metadata": {
        "id": "fqnx1tqbfLt2",
        "colab_type": "code",
        "colab": {
          "base_uri": "https://localhost:8080/",
          "height": 34
        },
        "outputId": "467d2a3f-eb40-49f8-e884-5cbe7ba1d407"
      },
      "source": [
        "color=['Red', 'Green', 'White', 'Black', 'Pink', 'Yellow']\n",
        "color1=[x for (i,x) in enumerate(color) if i not in (0,4,5)]\n",
        "print(color1)"
      ],
      "execution_count": 26,
      "outputs": [
        {
          "output_type": "stream",
          "text": [
            "['Green', 'White', 'Black']\n"
          ],
          "name": "stdout"
        }
      ]
    },
    {
      "cell_type": "markdown",
      "metadata": {
        "id": "l028OvWofl6n",
        "colab_type": "text"
      },
      "source": [
        "# **Write a Python program to print the numbers of a specified list after removing even numbers from it**"
      ]
    },
    {
      "cell_type": "code",
      "metadata": {
        "id": "jpNWITUHfvmA",
        "colab_type": "code",
        "colab": {
          "base_uri": "https://localhost:8080/",
          "height": 34
        },
        "outputId": "ce6b26cc-7b19-4f2d-9f66-930b3f5557c5"
      },
      "source": [
        "n=[7,8, 120, 25, 44, 20, 27]\n",
        "n1=[x for x in n if x%2!=0]\n",
        "print(n1)"
      ],
      "execution_count": 27,
      "outputs": [
        {
          "output_type": "stream",
          "text": [
            "[7, 25, 27]\n"
          ],
          "name": "stdout"
        }
      ]
    },
    {
      "cell_type": "markdown",
      "metadata": {
        "id": "pJhHDwzcgRqk",
        "colab_type": "text"
      },
      "source": [
        "# **Write a Python program to shuffle and print a specified list**"
      ]
    },
    {
      "cell_type": "code",
      "metadata": {
        "id": "sGWHyyFXgZn4",
        "colab_type": "code",
        "colab": {
          "base_uri": "https://localhost:8080/",
          "height": 34
        },
        "outputId": "1a9b17e9-d7a9-4fda-aeb5-2e0ba258df50"
      },
      "source": [
        "import random\n",
        "color=['Red', 'Green', 'White', 'Black', 'Pink', 'Yellow']\n",
        "random.shuffle(color)\n",
        "print(color)"
      ],
      "execution_count": 28,
      "outputs": [
        {
          "output_type": "stream",
          "text": [
            "['Yellow', 'Black', 'Red', 'Pink', 'White', 'Green']\n"
          ],
          "name": "stdout"
        }
      ]
    },
    {
      "cell_type": "markdown",
      "metadata": {
        "id": "6MnkcaR_gr-B",
        "colab_type": "text"
      },
      "source": [
        "# **Write a Python program to get the difference between the two lists**"
      ]
    },
    {
      "cell_type": "code",
      "metadata": {
        "id": "WlFav_-4gzCp",
        "colab_type": "code",
        "colab": {
          "base_uri": "https://localhost:8080/",
          "height": 34
        },
        "outputId": "fa71c786-9f1f-47a0-960a-f4d2da0b676a"
      },
      "source": [
        "def Diff(list1, list2): \n",
        "    return (list(set(list1) - set(list2))) \n",
        "list1=[10, 15, 20, 25, 30, 35, 40] \n",
        "list2=[25, 40, 35] \n",
        "print(Diff(list1, list2))"
      ],
      "execution_count": 29,
      "outputs": [
        {
          "output_type": "stream",
          "text": [
            "[10, 20, 30, 15]\n"
          ],
          "name": "stdout"
        }
      ]
    }
  ]
}